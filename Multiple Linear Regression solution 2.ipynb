{
 "cells": [
  {
   "cell_type": "code",
   "execution_count": 1,
   "id": "f8fef0c2",
   "metadata": {},
   "outputs": [],
   "source": [
    "import pandas as pd\n",
    "import numpy as np\n",
    "import seaborn as sns\n",
    "from statsmodels.graphics.regressionplots import influence_plot # visualizations\n",
    "import statsmodels.formula.api as smf\n",
    "import matplotlib.pyplot as plt"
   ]
  },
  {
   "cell_type": "code",
   "execution_count": 2,
   "id": "0fea2d2b",
   "metadata": {},
   "outputs": [
    {
     "name": "stdout",
     "output_type": "stream",
     "text": [
      "<class 'pandas.core.frame.DataFrame'>\n",
      "RangeIndex: 1436 entries, 0 to 1435\n",
      "Data columns (total 38 columns):\n",
      " #   Column            Non-Null Count  Dtype \n",
      "---  ------            --------------  ----- \n",
      " 0   Id                1436 non-null   int64 \n",
      " 1   Model             1436 non-null   object\n",
      " 2   Price             1436 non-null   int64 \n",
      " 3   Age_08_04         1436 non-null   int64 \n",
      " 4   Mfg_Month         1436 non-null   int64 \n",
      " 5   Mfg_Year          1436 non-null   int64 \n",
      " 6   KM                1436 non-null   int64 \n",
      " 7   Fuel_Type         1436 non-null   object\n",
      " 8   HP                1436 non-null   int64 \n",
      " 9   Met_Color         1436 non-null   int64 \n",
      " 10  Color             1436 non-null   object\n",
      " 11  Automatic         1436 non-null   int64 \n",
      " 12  cc                1436 non-null   int64 \n",
      " 13  Doors             1436 non-null   int64 \n",
      " 14  Cylinders         1436 non-null   int64 \n",
      " 15  Gears             1436 non-null   int64 \n",
      " 16  Quarterly_Tax     1436 non-null   int64 \n",
      " 17  Weight            1436 non-null   int64 \n",
      " 18  Mfr_Guarantee     1436 non-null   int64 \n",
      " 19  BOVAG_Guarantee   1436 non-null   int64 \n",
      " 20  Guarantee_Period  1436 non-null   int64 \n",
      " 21  ABS               1436 non-null   int64 \n",
      " 22  Airbag_1          1436 non-null   int64 \n",
      " 23  Airbag_2          1436 non-null   int64 \n",
      " 24  Airco             1436 non-null   int64 \n",
      " 25  Automatic_airco   1436 non-null   int64 \n",
      " 26  Boardcomputer     1436 non-null   int64 \n",
      " 27  CD_Player         1436 non-null   int64 \n",
      " 28  Central_Lock      1436 non-null   int64 \n",
      " 29  Powered_Windows   1436 non-null   int64 \n",
      " 30  Power_Steering    1436 non-null   int64 \n",
      " 31  Radio             1436 non-null   int64 \n",
      " 32  Mistlamps         1436 non-null   int64 \n",
      " 33  Sport_Model       1436 non-null   int64 \n",
      " 34  Backseat_Divider  1436 non-null   int64 \n",
      " 35  Metallic_Rim      1436 non-null   int64 \n",
      " 36  Radio_cassette    1436 non-null   int64 \n",
      " 37  Tow_Bar           1436 non-null   int64 \n",
      "dtypes: int64(35), object(3)\n",
      "memory usage: 426.4+ KB\n"
     ]
    }
   ],
   "source": [
    "data = pd.read_csv(\"C:/Users/DELL/Downloads/ToyotaCorolla.csv\")\n",
    "data.info()"
   ]
  },
  {
   "cell_type": "code",
   "execution_count": 3,
   "id": "9ee397ab",
   "metadata": {},
   "outputs": [],
   "source": [
    "import seaborn as sns"
   ]
  },
  {
   "cell_type": "code",
   "execution_count": 4,
   "id": "54dcba60",
   "metadata": {},
   "outputs": [],
   "source": [
    "import statsmodels.formula.api as smf"
   ]
  },
  {
   "cell_type": "code",
   "execution_count": 5,
   "id": "ecbf336d",
   "metadata": {},
   "outputs": [],
   "source": [
    "data.drop([\"Id\",\"Model\",\"Mfg_Month\",\"Mfg_Year\",\"Fuel_Type\",\"Met_Color\"],inplace=True, axis=1)"
   ]
  },
  {
   "cell_type": "code",
   "execution_count": 6,
   "id": "d2cae9ba",
   "metadata": {},
   "outputs": [
    {
     "name": "stdout",
     "output_type": "stream",
     "text": [
      "<class 'pandas.core.frame.DataFrame'>\n",
      "RangeIndex: 1436 entries, 0 to 1435\n",
      "Data columns (total 32 columns):\n",
      " #   Column            Non-Null Count  Dtype \n",
      "---  ------            --------------  ----- \n",
      " 0   Price             1436 non-null   int64 \n",
      " 1   Age_08_04         1436 non-null   int64 \n",
      " 2   KM                1436 non-null   int64 \n",
      " 3   HP                1436 non-null   int64 \n",
      " 4   Color             1436 non-null   object\n",
      " 5   Automatic         1436 non-null   int64 \n",
      " 6   cc                1436 non-null   int64 \n",
      " 7   Doors             1436 non-null   int64 \n",
      " 8   Cylinders         1436 non-null   int64 \n",
      " 9   Gears             1436 non-null   int64 \n",
      " 10  Quarterly_Tax     1436 non-null   int64 \n",
      " 11  Weight            1436 non-null   int64 \n",
      " 12  Mfr_Guarantee     1436 non-null   int64 \n",
      " 13  BOVAG_Guarantee   1436 non-null   int64 \n",
      " 14  Guarantee_Period  1436 non-null   int64 \n",
      " 15  ABS               1436 non-null   int64 \n",
      " 16  Airbag_1          1436 non-null   int64 \n",
      " 17  Airbag_2          1436 non-null   int64 \n",
      " 18  Airco             1436 non-null   int64 \n",
      " 19  Automatic_airco   1436 non-null   int64 \n",
      " 20  Boardcomputer     1436 non-null   int64 \n",
      " 21  CD_Player         1436 non-null   int64 \n",
      " 22  Central_Lock      1436 non-null   int64 \n",
      " 23  Powered_Windows   1436 non-null   int64 \n",
      " 24  Power_Steering    1436 non-null   int64 \n",
      " 25  Radio             1436 non-null   int64 \n",
      " 26  Mistlamps         1436 non-null   int64 \n",
      " 27  Sport_Model       1436 non-null   int64 \n",
      " 28  Backseat_Divider  1436 non-null   int64 \n",
      " 29  Metallic_Rim      1436 non-null   int64 \n",
      " 30  Radio_cassette    1436 non-null   int64 \n",
      " 31  Tow_Bar           1436 non-null   int64 \n",
      "dtypes: int64(31), object(1)\n",
      "memory usage: 359.1+ KB\n"
     ]
    }
   ],
   "source": [
    "data.info()"
   ]
  },
  {
   "cell_type": "code",
   "execution_count": 7,
   "id": "0356ba49",
   "metadata": {},
   "outputs": [],
   "source": [
    "data.drop([\"Color\",\"Automatic\",\"Cylinders\",\"Mfr_Guarantee\",\"BOVAG_Guarantee\",\"Guarantee_Period\",\"ABS\",\"Airbag_1\",\"Airbag_2\",\"Color\",\"Automatic\",\"Cylinders\",\"Mfr_Guarantee\",\"BOVAG_Guarantee\",\"Guarantee_Period\",\"ABS\",\"Airbag_1\",\"Airbag_2\",\"Airco\",\"Automatic_airco\",\"Boardcomputer\",\"CD_Player\",\"Central_Lock\",\"Powered_Windows\",\"Power_Steering\",\"Radio\",\"Mistlamps\",\"Sport_Model\",\"Backseat_Divider\",\"Metallic_Rim\",\"Radio_cassette\",\"Tow_Bar\"],inplace=True, axis=1)"
   ]
  },
  {
   "cell_type": "code",
   "execution_count": 8,
   "id": "3424dd6c",
   "metadata": {},
   "outputs": [
    {
     "name": "stdout",
     "output_type": "stream",
     "text": [
      "<class 'pandas.core.frame.DataFrame'>\n",
      "RangeIndex: 1436 entries, 0 to 1435\n",
      "Data columns (total 9 columns):\n",
      " #   Column         Non-Null Count  Dtype\n",
      "---  ------         --------------  -----\n",
      " 0   Price          1436 non-null   int64\n",
      " 1   Age_08_04      1436 non-null   int64\n",
      " 2   KM             1436 non-null   int64\n",
      " 3   HP             1436 non-null   int64\n",
      " 4   cc             1436 non-null   int64\n",
      " 5   Doors          1436 non-null   int64\n",
      " 6   Gears          1436 non-null   int64\n",
      " 7   Quarterly_Tax  1436 non-null   int64\n",
      " 8   Weight         1436 non-null   int64\n",
      "dtypes: int64(9)\n",
      "memory usage: 101.1 KB\n"
     ]
    }
   ],
   "source": [
    "data.info()"
   ]
  },
  {
   "cell_type": "code",
   "execution_count": 9,
   "id": "5ee54bc1",
   "metadata": {},
   "outputs": [],
   "source": [
    "import statsmodels.formula.api as smf\n",
    "model=smf.ols(\"Price~Age_08_04+KM+HP+cc+Doors+Gears+Quarterly_Tax+Weight\", data=data).fit()"
   ]
  },
  {
   "cell_type": "code",
   "execution_count": 10,
   "id": "d6d27d25",
   "metadata": {},
   "outputs": [
    {
     "data": {
      "text/html": [
       "<table class=\"simpletable\">\n",
       "<caption>OLS Regression Results</caption>\n",
       "<tr>\n",
       "  <th>Dep. Variable:</th>          <td>Price</td>      <th>  R-squared:         </th> <td>   0.864</td> \n",
       "</tr>\n",
       "<tr>\n",
       "  <th>Model:</th>                   <td>OLS</td>       <th>  Adj. R-squared:    </th> <td>   0.863</td> \n",
       "</tr>\n",
       "<tr>\n",
       "  <th>Method:</th>             <td>Least Squares</td>  <th>  F-statistic:       </th> <td>   1131.</td> \n",
       "</tr>\n",
       "<tr>\n",
       "  <th>Date:</th>             <td>Sat, 02 Oct 2021</td> <th>  Prob (F-statistic):</th>  <td>  0.00</td>  \n",
       "</tr>\n",
       "<tr>\n",
       "  <th>Time:</th>                 <td>14:57:07</td>     <th>  Log-Likelihood:    </th> <td> -12376.</td> \n",
       "</tr>\n",
       "<tr>\n",
       "  <th>No. Observations:</th>      <td>  1436</td>      <th>  AIC:               </th> <td>2.477e+04</td>\n",
       "</tr>\n",
       "<tr>\n",
       "  <th>Df Residuals:</th>          <td>  1427</td>      <th>  BIC:               </th> <td>2.482e+04</td>\n",
       "</tr>\n",
       "<tr>\n",
       "  <th>Df Model:</th>              <td>     8</td>      <th>                     </th>     <td> </td>    \n",
       "</tr>\n",
       "<tr>\n",
       "  <th>Covariance Type:</th>      <td>nonrobust</td>    <th>                     </th>     <td> </td>    \n",
       "</tr>\n",
       "</table>\n",
       "<table class=\"simpletable\">\n",
       "<tr>\n",
       "        <td></td>           <th>coef</th>     <th>std err</th>      <th>t</th>      <th>P>|t|</th>  <th>[0.025</th>    <th>0.975]</th>  \n",
       "</tr>\n",
       "<tr>\n",
       "  <th>Intercept</th>     <td>-5573.1064</td> <td> 1411.390</td> <td>   -3.949</td> <td> 0.000</td> <td>-8341.728</td> <td>-2804.485</td>\n",
       "</tr>\n",
       "<tr>\n",
       "  <th>Age_08_04</th>     <td> -121.6584</td> <td>    2.616</td> <td>  -46.512</td> <td> 0.000</td> <td> -126.789</td> <td> -116.527</td>\n",
       "</tr>\n",
       "<tr>\n",
       "  <th>KM</th>            <td>   -0.0208</td> <td>    0.001</td> <td>  -16.622</td> <td> 0.000</td> <td>   -0.023</td> <td>   -0.018</td>\n",
       "</tr>\n",
       "<tr>\n",
       "  <th>HP</th>            <td>   31.6809</td> <td>    2.818</td> <td>   11.241</td> <td> 0.000</td> <td>   26.152</td> <td>   37.209</td>\n",
       "</tr>\n",
       "<tr>\n",
       "  <th>cc</th>            <td>   -0.1211</td> <td>    0.090</td> <td>   -1.344</td> <td> 0.179</td> <td>   -0.298</td> <td>    0.056</td>\n",
       "</tr>\n",
       "<tr>\n",
       "  <th>Doors</th>         <td>   -1.6166</td> <td>   40.006</td> <td>   -0.040</td> <td> 0.968</td> <td>  -80.093</td> <td>   76.859</td>\n",
       "</tr>\n",
       "<tr>\n",
       "  <th>Gears</th>         <td>  594.3199</td> <td>  197.055</td> <td>    3.016</td> <td> 0.003</td> <td>  207.771</td> <td>  980.869</td>\n",
       "</tr>\n",
       "<tr>\n",
       "  <th>Quarterly_Tax</th> <td>    3.9491</td> <td>    1.310</td> <td>    3.015</td> <td> 0.003</td> <td>    1.379</td> <td>    6.519</td>\n",
       "</tr>\n",
       "<tr>\n",
       "  <th>Weight</th>        <td>   16.9586</td> <td>    1.068</td> <td>   15.880</td> <td> 0.000</td> <td>   14.864</td> <td>   19.054</td>\n",
       "</tr>\n",
       "</table>\n",
       "<table class=\"simpletable\">\n",
       "<tr>\n",
       "  <th>Omnibus:</th>       <td>151.719</td> <th>  Durbin-Watson:     </th> <td>   1.543</td> \n",
       "</tr>\n",
       "<tr>\n",
       "  <th>Prob(Omnibus):</th> <td> 0.000</td>  <th>  Jarque-Bera (JB):  </th> <td>1011.853</td> \n",
       "</tr>\n",
       "<tr>\n",
       "  <th>Skew:</th>          <td>-0.219</td>  <th>  Prob(JB):          </th> <td>1.90e-220</td>\n",
       "</tr>\n",
       "<tr>\n",
       "  <th>Kurtosis:</th>      <td> 7.089</td>  <th>  Cond. No.          </th> <td>3.13e+06</td> \n",
       "</tr>\n",
       "</table><br/><br/>Notes:<br/>[1] Standard Errors assume that the covariance matrix of the errors is correctly specified.<br/>[2] The condition number is large, 3.13e+06. This might indicate that there are<br/>strong multicollinearity or other numerical problems."
      ],
      "text/plain": [
       "<class 'statsmodels.iolib.summary.Summary'>\n",
       "\"\"\"\n",
       "                            OLS Regression Results                            \n",
       "==============================================================================\n",
       "Dep. Variable:                  Price   R-squared:                       0.864\n",
       "Model:                            OLS   Adj. R-squared:                  0.863\n",
       "Method:                 Least Squares   F-statistic:                     1131.\n",
       "Date:                Sat, 02 Oct 2021   Prob (F-statistic):               0.00\n",
       "Time:                        14:57:07   Log-Likelihood:                -12376.\n",
       "No. Observations:                1436   AIC:                         2.477e+04\n",
       "Df Residuals:                    1427   BIC:                         2.482e+04\n",
       "Df Model:                           8                                         \n",
       "Covariance Type:            nonrobust                                         \n",
       "=================================================================================\n",
       "                    coef    std err          t      P>|t|      [0.025      0.975]\n",
       "---------------------------------------------------------------------------------\n",
       "Intercept     -5573.1064   1411.390     -3.949      0.000   -8341.728   -2804.485\n",
       "Age_08_04      -121.6584      2.616    -46.512      0.000    -126.789    -116.527\n",
       "KM               -0.0208      0.001    -16.622      0.000      -0.023      -0.018\n",
       "HP               31.6809      2.818     11.241      0.000      26.152      37.209\n",
       "cc               -0.1211      0.090     -1.344      0.179      -0.298       0.056\n",
       "Doors            -1.6166     40.006     -0.040      0.968     -80.093      76.859\n",
       "Gears           594.3199    197.055      3.016      0.003     207.771     980.869\n",
       "Quarterly_Tax     3.9491      1.310      3.015      0.003       1.379       6.519\n",
       "Weight           16.9586      1.068     15.880      0.000      14.864      19.054\n",
       "==============================================================================\n",
       "Omnibus:                      151.719   Durbin-Watson:                   1.543\n",
       "Prob(Omnibus):                  0.000   Jarque-Bera (JB):             1011.853\n",
       "Skew:                          -0.219   Prob(JB):                    1.90e-220\n",
       "Kurtosis:                       7.089   Cond. No.                     3.13e+06\n",
       "==============================================================================\n",
       "\n",
       "Notes:\n",
       "[1] Standard Errors assume that the covariance matrix of the errors is correctly specified.\n",
       "[2] The condition number is large, 3.13e+06. This might indicate that there are\n",
       "strong multicollinearity or other numerical problems.\n",
       "\"\"\""
      ]
     },
     "execution_count": 10,
     "metadata": {},
     "output_type": "execute_result"
    }
   ],
   "source": [
    "model.summary()"
   ]
  },
  {
   "cell_type": "code",
   "execution_count": 11,
   "id": "3be7277a",
   "metadata": {},
   "outputs": [],
   "source": [
    "#cc\n",
    "ml_Doors = smf.ols('Price~Doors',data=data).fit()"
   ]
  },
  {
   "cell_type": "code",
   "execution_count": 12,
   "id": "1547b5fb",
   "metadata": {},
   "outputs": [
    {
     "data": {
      "text/html": [
       "<table class=\"simpletable\">\n",
       "<caption>OLS Regression Results</caption>\n",
       "<tr>\n",
       "  <th>Dep. Variable:</th>          <td>Price</td>      <th>  R-squared:         </th> <td>   0.034</td> \n",
       "</tr>\n",
       "<tr>\n",
       "  <th>Model:</th>                   <td>OLS</td>       <th>  Adj. R-squared:    </th> <td>   0.034</td> \n",
       "</tr>\n",
       "<tr>\n",
       "  <th>Method:</th>             <td>Least Squares</td>  <th>  F-statistic:       </th> <td>   51.00</td> \n",
       "</tr>\n",
       "<tr>\n",
       "  <th>Date:</th>             <td>Sat, 02 Oct 2021</td> <th>  Prob (F-statistic):</th> <td>1.46e-12</td> \n",
       "</tr>\n",
       "<tr>\n",
       "  <th>Time:</th>                 <td>14:57:08</td>     <th>  Log-Likelihood:    </th> <td> -13782.</td> \n",
       "</tr>\n",
       "<tr>\n",
       "  <th>No. Observations:</th>      <td>  1436</td>      <th>  AIC:               </th> <td>2.757e+04</td>\n",
       "</tr>\n",
       "<tr>\n",
       "  <th>Df Residuals:</th>          <td>  1434</td>      <th>  BIC:               </th> <td>2.758e+04</td>\n",
       "</tr>\n",
       "<tr>\n",
       "  <th>Df Model:</th>              <td>     1</td>      <th>                     </th>     <td> </td>    \n",
       "</tr>\n",
       "<tr>\n",
       "  <th>Covariance Type:</th>      <td>nonrobust</td>    <th>                     </th>     <td> </td>    \n",
       "</tr>\n",
       "</table>\n",
       "<table class=\"simpletable\">\n",
       "<tr>\n",
       "      <td></td>         <th>coef</th>     <th>std err</th>      <th>t</th>      <th>P>|t|</th>  <th>[0.025</th>    <th>0.975]</th>  \n",
       "</tr>\n",
       "<tr>\n",
       "  <th>Intercept</th> <td> 7885.0058</td> <td>  409.438</td> <td>   19.258</td> <td> 0.000</td> <td> 7081.843</td> <td> 8688.168</td>\n",
       "</tr>\n",
       "<tr>\n",
       "  <th>Doors</th>     <td>  705.5586</td> <td>   98.795</td> <td>    7.142</td> <td> 0.000</td> <td>  511.761</td> <td>  899.356</td>\n",
       "</tr>\n",
       "</table>\n",
       "<table class=\"simpletable\">\n",
       "<tr>\n",
       "  <th>Omnibus:</th>       <td>466.779</td> <th>  Durbin-Watson:     </th> <td>   0.287</td> \n",
       "</tr>\n",
       "<tr>\n",
       "  <th>Prob(Omnibus):</th> <td> 0.000</td>  <th>  Jarque-Bera (JB):  </th> <td>1406.209</td> \n",
       "</tr>\n",
       "<tr>\n",
       "  <th>Skew:</th>          <td> 1.651</td>  <th>  Prob(JB):          </th> <td>4.42e-306</td>\n",
       "</tr>\n",
       "<tr>\n",
       "  <th>Kurtosis:</th>      <td> 6.549</td>  <th>  Cond. No.          </th> <td>    19.0</td> \n",
       "</tr>\n",
       "</table><br/><br/>Notes:<br/>[1] Standard Errors assume that the covariance matrix of the errors is correctly specified."
      ],
      "text/plain": [
       "<class 'statsmodels.iolib.summary.Summary'>\n",
       "\"\"\"\n",
       "                            OLS Regression Results                            \n",
       "==============================================================================\n",
       "Dep. Variable:                  Price   R-squared:                       0.034\n",
       "Model:                            OLS   Adj. R-squared:                  0.034\n",
       "Method:                 Least Squares   F-statistic:                     51.00\n",
       "Date:                Sat, 02 Oct 2021   Prob (F-statistic):           1.46e-12\n",
       "Time:                        14:57:08   Log-Likelihood:                -13782.\n",
       "No. Observations:                1436   AIC:                         2.757e+04\n",
       "Df Residuals:                    1434   BIC:                         2.758e+04\n",
       "Df Model:                           1                                         \n",
       "Covariance Type:            nonrobust                                         \n",
       "==============================================================================\n",
       "                 coef    std err          t      P>|t|      [0.025      0.975]\n",
       "------------------------------------------------------------------------------\n",
       "Intercept   7885.0058    409.438     19.258      0.000    7081.843    8688.168\n",
       "Doors        705.5586     98.795      7.142      0.000     511.761     899.356\n",
       "==============================================================================\n",
       "Omnibus:                      466.779   Durbin-Watson:                   0.287\n",
       "Prob(Omnibus):                  0.000   Jarque-Bera (JB):             1406.209\n",
       "Skew:                           1.651   Prob(JB):                    4.42e-306\n",
       "Kurtosis:                       6.549   Cond. No.                         19.0\n",
       "==============================================================================\n",
       "\n",
       "Notes:\n",
       "[1] Standard Errors assume that the covariance matrix of the errors is correctly specified.\n",
       "\"\"\""
      ]
     },
     "execution_count": 12,
     "metadata": {},
     "output_type": "execute_result"
    }
   ],
   "source": [
    "ml_Doors.summary()"
   ]
  },
  {
   "cell_type": "code",
   "execution_count": 13,
   "id": "d68263be",
   "metadata": {},
   "outputs": [
    {
     "data": {
      "text/html": [
       "<table class=\"simpletable\">\n",
       "<caption>OLS Regression Results</caption>\n",
       "<tr>\n",
       "  <th>Dep. Variable:</th>          <td>Price</td>      <th>  R-squared:         </th> <td>   0.016</td> \n",
       "</tr>\n",
       "<tr>\n",
       "  <th>Model:</th>                   <td>OLS</td>       <th>  Adj. R-squared:    </th> <td>   0.015</td> \n",
       "</tr>\n",
       "<tr>\n",
       "  <th>Method:</th>             <td>Least Squares</td>  <th>  F-statistic:       </th> <td>   23.28</td> \n",
       "</tr>\n",
       "<tr>\n",
       "  <th>Date:</th>             <td>Sat, 02 Oct 2021</td> <th>  Prob (F-statistic):</th> <td>1.55e-06</td> \n",
       "</tr>\n",
       "<tr>\n",
       "  <th>Time:</th>                 <td>14:57:08</td>     <th>  Log-Likelihood:    </th> <td> -13795.</td> \n",
       "</tr>\n",
       "<tr>\n",
       "  <th>No. Observations:</th>      <td>  1436</td>      <th>  AIC:               </th> <td>2.759e+04</td>\n",
       "</tr>\n",
       "<tr>\n",
       "  <th>Df Residuals:</th>          <td>  1434</td>      <th>  BIC:               </th> <td>2.760e+04</td>\n",
       "</tr>\n",
       "<tr>\n",
       "  <th>Df Model:</th>              <td>     1</td>      <th>                     </th>     <td> </td>    \n",
       "</tr>\n",
       "<tr>\n",
       "  <th>Covariance Type:</th>      <td>nonrobust</td>    <th>                     </th>     <td> </td>    \n",
       "</tr>\n",
       "</table>\n",
       "<table class=\"simpletable\">\n",
       "<tr>\n",
       "      <td></td>         <th>coef</th>     <th>std err</th>      <th>t</th>      <th>P>|t|</th>  <th>[0.025</th>    <th>0.975]</th>  \n",
       "</tr>\n",
       "<tr>\n",
       "  <th>Intercept</th> <td> 9027.5548</td> <td>  365.576</td> <td>   24.694</td> <td> 0.000</td> <td> 8310.435</td> <td> 9744.675</td>\n",
       "</tr>\n",
       "<tr>\n",
       "  <th>cc</th>        <td>    1.0802</td> <td>    0.224</td> <td>    4.825</td> <td> 0.000</td> <td>    0.641</td> <td>    1.519</td>\n",
       "</tr>\n",
       "</table>\n",
       "<table class=\"simpletable\">\n",
       "<tr>\n",
       "  <th>Omnibus:</th>       <td>465.181</td> <th>  Durbin-Watson:     </th> <td>   0.267</td> \n",
       "</tr>\n",
       "<tr>\n",
       "  <th>Prob(Omnibus):</th> <td> 0.000</td>  <th>  Jarque-Bera (JB):  </th> <td>1390.401</td> \n",
       "</tr>\n",
       "<tr>\n",
       "  <th>Skew:</th>          <td> 1.649</td>  <th>  Prob(JB):          </th> <td>1.20e-302</td>\n",
       "</tr>\n",
       "<tr>\n",
       "  <th>Kurtosis:</th>      <td> 6.516</td>  <th>  Cond. No.          </th> <td>6.29e+03</td> \n",
       "</tr>\n",
       "</table><br/><br/>Notes:<br/>[1] Standard Errors assume that the covariance matrix of the errors is correctly specified.<br/>[2] The condition number is large, 6.29e+03. This might indicate that there are<br/>strong multicollinearity or other numerical problems."
      ],
      "text/plain": [
       "<class 'statsmodels.iolib.summary.Summary'>\n",
       "\"\"\"\n",
       "                            OLS Regression Results                            \n",
       "==============================================================================\n",
       "Dep. Variable:                  Price   R-squared:                       0.016\n",
       "Model:                            OLS   Adj. R-squared:                  0.015\n",
       "Method:                 Least Squares   F-statistic:                     23.28\n",
       "Date:                Sat, 02 Oct 2021   Prob (F-statistic):           1.55e-06\n",
       "Time:                        14:57:08   Log-Likelihood:                -13795.\n",
       "No. Observations:                1436   AIC:                         2.759e+04\n",
       "Df Residuals:                    1434   BIC:                         2.760e+04\n",
       "Df Model:                           1                                         \n",
       "Covariance Type:            nonrobust                                         \n",
       "==============================================================================\n",
       "                 coef    std err          t      P>|t|      [0.025      0.975]\n",
       "------------------------------------------------------------------------------\n",
       "Intercept   9027.5548    365.576     24.694      0.000    8310.435    9744.675\n",
       "cc             1.0802      0.224      4.825      0.000       0.641       1.519\n",
       "==============================================================================\n",
       "Omnibus:                      465.181   Durbin-Watson:                   0.267\n",
       "Prob(Omnibus):                  0.000   Jarque-Bera (JB):             1390.401\n",
       "Skew:                           1.649   Prob(JB):                    1.20e-302\n",
       "Kurtosis:                       6.516   Cond. No.                     6.29e+03\n",
       "==============================================================================\n",
       "\n",
       "Notes:\n",
       "[1] Standard Errors assume that the covariance matrix of the errors is correctly specified.\n",
       "[2] The condition number is large, 6.29e+03. This might indicate that there are\n",
       "strong multicollinearity or other numerical problems.\n",
       "\"\"\""
      ]
     },
     "execution_count": 13,
     "metadata": {},
     "output_type": "execute_result"
    }
   ],
   "source": [
    "ml_cc=smf.ols('Price~cc',data=data).fit()\n",
    "ml_cc.summary()"
   ]
  },
  {
   "cell_type": "code",
   "execution_count": 14,
   "id": "2b426209",
   "metadata": {},
   "outputs": [
    {
     "data": {
      "text/html": [
       "<table class=\"simpletable\">\n",
       "<caption>OLS Regression Results</caption>\n",
       "<tr>\n",
       "  <th>Dep. Variable:</th>          <td>Price</td>      <th>  R-squared:         </th> <td>   0.047</td> \n",
       "</tr>\n",
       "<tr>\n",
       "  <th>Model:</th>                   <td>OLS</td>       <th>  Adj. R-squared:    </th> <td>   0.046</td> \n",
       "</tr>\n",
       "<tr>\n",
       "  <th>Method:</th>             <td>Least Squares</td>  <th>  F-statistic:       </th> <td>   35.24</td> \n",
       "</tr>\n",
       "<tr>\n",
       "  <th>Date:</th>             <td>Sat, 02 Oct 2021</td> <th>  Prob (F-statistic):</th> <td>1.15e-15</td> \n",
       "</tr>\n",
       "<tr>\n",
       "  <th>Time:</th>                 <td>14:57:08</td>     <th>  Log-Likelihood:    </th> <td> -13772.</td> \n",
       "</tr>\n",
       "<tr>\n",
       "  <th>No. Observations:</th>      <td>  1436</td>      <th>  AIC:               </th> <td>2.755e+04</td>\n",
       "</tr>\n",
       "<tr>\n",
       "  <th>Df Residuals:</th>          <td>  1433</td>      <th>  BIC:               </th> <td>2.757e+04</td>\n",
       "</tr>\n",
       "<tr>\n",
       "  <th>Df Model:</th>              <td>     2</td>      <th>                     </th>     <td> </td>    \n",
       "</tr>\n",
       "<tr>\n",
       "  <th>Covariance Type:</th>      <td>nonrobust</td>    <th>                     </th>     <td> </td>    \n",
       "</tr>\n",
       "</table>\n",
       "<table class=\"simpletable\">\n",
       "<tr>\n",
       "      <td></td>         <th>coef</th>     <th>std err</th>      <th>t</th>      <th>P>|t|</th>  <th>[0.025</th>    <th>0.975]</th>  \n",
       "</tr>\n",
       "<tr>\n",
       "  <th>Intercept</th> <td> 6509.4211</td> <td>  515.773</td> <td>   12.621</td> <td> 0.000</td> <td> 5497.670</td> <td> 7521.173</td>\n",
       "</tr>\n",
       "<tr>\n",
       "  <th>cc</th>        <td>    0.9597</td> <td>    0.221</td> <td>    4.340</td> <td> 0.000</td> <td>    0.526</td> <td>    1.393</td>\n",
       "</tr>\n",
       "<tr>\n",
       "  <th>Doors</th>     <td>  671.3973</td> <td>   98.501</td> <td>    6.816</td> <td> 0.000</td> <td>  478.176</td> <td>  864.619</td>\n",
       "</tr>\n",
       "</table>\n",
       "<table class=\"simpletable\">\n",
       "<tr>\n",
       "  <th>Omnibus:</th>       <td>448.845</td> <th>  Durbin-Watson:     </th> <td>   0.290</td> \n",
       "</tr>\n",
       "<tr>\n",
       "  <th>Prob(Omnibus):</th> <td> 0.000</td>  <th>  Jarque-Bera (JB):  </th> <td>1294.854</td> \n",
       "</tr>\n",
       "<tr>\n",
       "  <th>Skew:</th>          <td> 1.603</td>  <th>  Prob(JB):          </th> <td>6.70e-282</td>\n",
       "</tr>\n",
       "<tr>\n",
       "  <th>Kurtosis:</th>      <td> 6.370</td>  <th>  Cond. No.          </th> <td>9.09e+03</td> \n",
       "</tr>\n",
       "</table><br/><br/>Notes:<br/>[1] Standard Errors assume that the covariance matrix of the errors is correctly specified.<br/>[2] The condition number is large, 9.09e+03. This might indicate that there are<br/>strong multicollinearity or other numerical problems."
      ],
      "text/plain": [
       "<class 'statsmodels.iolib.summary.Summary'>\n",
       "\"\"\"\n",
       "                            OLS Regression Results                            \n",
       "==============================================================================\n",
       "Dep. Variable:                  Price   R-squared:                       0.047\n",
       "Model:                            OLS   Adj. R-squared:                  0.046\n",
       "Method:                 Least Squares   F-statistic:                     35.24\n",
       "Date:                Sat, 02 Oct 2021   Prob (F-statistic):           1.15e-15\n",
       "Time:                        14:57:08   Log-Likelihood:                -13772.\n",
       "No. Observations:                1436   AIC:                         2.755e+04\n",
       "Df Residuals:                    1433   BIC:                         2.757e+04\n",
       "Df Model:                           2                                         \n",
       "Covariance Type:            nonrobust                                         \n",
       "==============================================================================\n",
       "                 coef    std err          t      P>|t|      [0.025      0.975]\n",
       "------------------------------------------------------------------------------\n",
       "Intercept   6509.4211    515.773     12.621      0.000    5497.670    7521.173\n",
       "cc             0.9597      0.221      4.340      0.000       0.526       1.393\n",
       "Doors        671.3973     98.501      6.816      0.000     478.176     864.619\n",
       "==============================================================================\n",
       "Omnibus:                      448.845   Durbin-Watson:                   0.290\n",
       "Prob(Omnibus):                  0.000   Jarque-Bera (JB):             1294.854\n",
       "Skew:                           1.603   Prob(JB):                    6.70e-282\n",
       "Kurtosis:                       6.370   Cond. No.                     9.09e+03\n",
       "==============================================================================\n",
       "\n",
       "Notes:\n",
       "[1] Standard Errors assume that the covariance matrix of the errors is correctly specified.\n",
       "[2] The condition number is large, 9.09e+03. This might indicate that there are\n",
       "strong multicollinearity or other numerical problems.\n",
       "\"\"\""
      ]
     },
     "execution_count": 14,
     "metadata": {},
     "output_type": "execute_result"
    }
   ],
   "source": [
    "ml_DC=smf.ols('Price~cc+Doors',data=data).fit()\n",
    "ml_DC.summary()"
   ]
  },
  {
   "cell_type": "code",
   "execution_count": 15,
   "id": "f7e66d77",
   "metadata": {},
   "outputs": [],
   "source": [
    "rsq_Age_08_04 = smf.ols('Age_08_04~KM+HP+cc+Doors+Gears+Quarterly_Tax+Weight',data=data).fit().rsquared\n",
    "vif_Age_08_04 = 1/(1-rsq_Age_08_04)"
   ]
  },
  {
   "cell_type": "code",
   "execution_count": 16,
   "id": "7ac1654a",
   "metadata": {},
   "outputs": [],
   "source": [
    "rsq_KM  = smf.ols('KM~Age_08_04+HP+cc+Doors+Gears+Quarterly_Tax+Weight',data=data).fit().rsquared\n",
    "vif_KM  = 1/(1-rsq_KM )"
   ]
  },
  {
   "cell_type": "code",
   "execution_count": 17,
   "id": "e09e3091",
   "metadata": {},
   "outputs": [],
   "source": [
    "rsq_HP = smf.ols('HP~Age_08_04+KM+cc+Doors+Gears+Quarterly_Tax+Weight',data=data).fit().rsquared\n",
    "vif_HP = 1/(1-rsq_HP)"
   ]
  },
  {
   "cell_type": "code",
   "execution_count": 18,
   "id": "3e22d309",
   "metadata": {},
   "outputs": [],
   "source": [
    "rsq_cc = smf.ols('cc~Age_08_04+KM+HP+Doors+Gears+Quarterly_Tax+Weight',data=data).fit().rsquared\n",
    "vif_cc = 1/(1-rsq_cc)"
   ]
  },
  {
   "cell_type": "code",
   "execution_count": 19,
   "id": "311cf252",
   "metadata": {},
   "outputs": [],
   "source": [
    "rsq_Doors = smf.ols('Doors~Age_08_04+KM+HP+cc+Gears+Quarterly_Tax+Weight',data=data).fit().rsquared\n",
    "vif_Doors = 1/(1-rsq_Doors)"
   ]
  },
  {
   "cell_type": "code",
   "execution_count": 20,
   "id": "9df7d955",
   "metadata": {},
   "outputs": [],
   "source": [
    "rsq_Gears = smf.ols('Gears~Age_08_04+KM+cc+Doors+HP+Quarterly_Tax+Weight',data=data).fit().rsquared\n",
    "vif_Gears = 1/(1-rsq_Gears)"
   ]
  },
  {
   "cell_type": "code",
   "execution_count": 21,
   "id": "8e3d8543",
   "metadata": {},
   "outputs": [],
   "source": [
    "rsq_Quarterly_Tax = smf.ols('Quarterly_Tax~Age_08_04+KM+cc+Doors+HP+Gears+Weight',data=data).fit().rsquared\n",
    "vif_Quarterly_Tax = 1/(1-rsq_Quarterly_Tax)"
   ]
  },
  {
   "cell_type": "code",
   "execution_count": 22,
   "id": "8813787f",
   "metadata": {},
   "outputs": [],
   "source": [
    "rsq_Weight = smf.ols('Weight~Age_08_04+KM+cc+Doors+HP+Gears+Quarterly_Tax',data=data).fit().rsquared\n",
    "vif_Weight = 1/(1-rsq_Weight)"
   ]
  },
  {
   "cell_type": "code",
   "execution_count": 23,
   "id": "7822467c",
   "metadata": {},
   "outputs": [
    {
     "data": {
      "text/html": [
       "<div>\n",
       "<style scoped>\n",
       "    .dataframe tbody tr th:only-of-type {\n",
       "        vertical-align: middle;\n",
       "    }\n",
       "\n",
       "    .dataframe tbody tr th {\n",
       "        vertical-align: top;\n",
       "    }\n",
       "\n",
       "    .dataframe thead th {\n",
       "        text-align: right;\n",
       "    }\n",
       "</style>\n",
       "<table border=\"1\" class=\"dataframe\">\n",
       "  <thead>\n",
       "    <tr style=\"text-align: right;\">\n",
       "      <th></th>\n",
       "      <th>variables</th>\n",
       "      <th>VIF</th>\n",
       "    </tr>\n",
       "  </thead>\n",
       "  <tbody>\n",
       "    <tr>\n",
       "      <th>0</th>\n",
       "      <td>Age_08_04</td>\n",
       "      <td>1.884620</td>\n",
       "    </tr>\n",
       "    <tr>\n",
       "      <th>1</th>\n",
       "      <td>KM</td>\n",
       "      <td>1.756905</td>\n",
       "    </tr>\n",
       "    <tr>\n",
       "      <th>2</th>\n",
       "      <td>HP</td>\n",
       "      <td>1.419422</td>\n",
       "    </tr>\n",
       "    <tr>\n",
       "      <th>3</th>\n",
       "      <td>cc</td>\n",
       "      <td>1.163894</td>\n",
       "    </tr>\n",
       "    <tr>\n",
       "      <th>4</th>\n",
       "      <td>Doors</td>\n",
       "      <td>1.156575</td>\n",
       "    </tr>\n",
       "    <tr>\n",
       "      <th>5</th>\n",
       "      <td>Gears</td>\n",
       "      <td>1.098723</td>\n",
       "    </tr>\n",
       "    <tr>\n",
       "      <th>6</th>\n",
       "      <td>Quarterly_Tax</td>\n",
       "      <td>2.311431</td>\n",
       "    </tr>\n",
       "    <tr>\n",
       "      <th>7</th>\n",
       "      <td>Weight</td>\n",
       "      <td>2.516420</td>\n",
       "    </tr>\n",
       "  </tbody>\n",
       "</table>\n",
       "</div>"
      ],
      "text/plain": [
       "       variables       VIF\n",
       "0      Age_08_04  1.884620\n",
       "1             KM  1.756905\n",
       "2             HP  1.419422\n",
       "3             cc  1.163894\n",
       "4          Doors  1.156575\n",
       "5          Gears  1.098723\n",
       "6  Quarterly_Tax  2.311431\n",
       "7         Weight  2.516420"
      ]
     },
     "execution_count": 23,
     "metadata": {},
     "output_type": "execute_result"
    }
   ],
   "source": [
    "# storing vif values in a dataframe\n",
    "d1 = {'variables':['Age_08_04','KM','HP','cc','Doors','Gears','Quarterly_Tax','Weight'], 'VIF':[vif_Age_08_04,vif_KM,vif_HP,vif_cc,vif_Doors,vif_Gears,vif_Quarterly_Tax,vif_Weight]}\n",
    "Vif_frame = pd.DataFrame(d1)\n",
    "Vif_frame"
   ]
  },
  {
   "cell_type": "code",
   "execution_count": 24,
   "id": "245e00de",
   "metadata": {},
   "outputs": [
    {
     "data": {
      "image/png": "[encoded data removed]",
      "text/plain": [
       "<Figure size 864x576 with 9 Axes>"
      ]
     },
     "metadata": {
      "needs_background": "light"
     },
     "output_type": "display_data"
    }
   ],
   "source": [
    "import statsmodels.api as sm\n",
    "fig =plt.figure(figsize=(12,8))            # third opininon \n",
    "fig = sm.graphics.plot_partregress_grid(model,fig=fig)\n",
    "plt.show()"
   ]
  },
  {
   "cell_type": "code",
   "execution_count": 25,
   "id": "280060ba",
   "metadata": {},
   "outputs": [],
   "source": [
    "data.drop(['Doors'],inplace=True,axis=1)"
   ]
  },
  {
   "cell_type": "code",
   "execution_count": 26,
   "id": "3a5286c8",
   "metadata": {},
   "outputs": [
    {
     "name": "stdout",
     "output_type": "stream",
     "text": [
      "<class 'pandas.core.frame.DataFrame'>\n",
      "RangeIndex: 1436 entries, 0 to 1435\n",
      "Data columns (total 8 columns):\n",
      " #   Column         Non-Null Count  Dtype\n",
      "---  ------         --------------  -----\n",
      " 0   Price          1436 non-null   int64\n",
      " 1   Age_08_04      1436 non-null   int64\n",
      " 2   KM             1436 non-null   int64\n",
      " 3   HP             1436 non-null   int64\n",
      " 4   cc             1436 non-null   int64\n",
      " 5   Gears          1436 non-null   int64\n",
      " 6   Quarterly_Tax  1436 non-null   int64\n",
      " 7   Weight         1436 non-null   int64\n",
      "dtypes: int64(8)\n",
      "memory usage: 89.9 KB\n"
     ]
    }
   ],
   "source": [
    "data.info()"
   ]
  },
  {
   "cell_type": "code",
   "execution_count": 27,
   "id": "4a84e17e",
   "metadata": {},
   "outputs": [],
   "source": [
    "# doors is not significant. so we have to remove that\n",
    "import statsmodels.formula.api as smf\n",
    "model2=smf.ols(\"Price~Age_08_04+KM+HP+cc+Gears+Quarterly_Tax+Weight\", data=data).fit()"
   ]
  },
  {
   "cell_type": "code",
   "execution_count": 28,
   "id": "05dbdf90",
   "metadata": {},
   "outputs": [
    {
     "data": {
      "text/html": [
       "<table class=\"simpletable\">\n",
       "<caption>OLS Regression Results</caption>\n",
       "<tr>\n",
       "  <th>Dep. Variable:</th>          <td>Price</td>      <th>  R-squared:         </th> <td>   0.864</td> \n",
       "</tr>\n",
       "<tr>\n",
       "  <th>Model:</th>                   <td>OLS</td>       <th>  Adj. R-squared:    </th> <td>   0.863</td> \n",
       "</tr>\n",
       "<tr>\n",
       "  <th>Method:</th>             <td>Least Squares</td>  <th>  F-statistic:       </th> <td>   1293.</td> \n",
       "</tr>\n",
       "<tr>\n",
       "  <th>Date:</th>             <td>Sat, 02 Oct 2021</td> <th>  Prob (F-statistic):</th>  <td>  0.00</td>  \n",
       "</tr>\n",
       "<tr>\n",
       "  <th>Time:</th>                 <td>14:57:11</td>     <th>  Log-Likelihood:    </th> <td> -12376.</td> \n",
       "</tr>\n",
       "<tr>\n",
       "  <th>No. Observations:</th>      <td>  1436</td>      <th>  AIC:               </th> <td>2.477e+04</td>\n",
       "</tr>\n",
       "<tr>\n",
       "  <th>Df Residuals:</th>          <td>  1428</td>      <th>  BIC:               </th> <td>2.481e+04</td>\n",
       "</tr>\n",
       "<tr>\n",
       "  <th>Df Model:</th>              <td>     7</td>      <th>                     </th>     <td> </td>    \n",
       "</tr>\n",
       "<tr>\n",
       "  <th>Covariance Type:</th>      <td>nonrobust</td>    <th>                     </th>     <td> </td>    \n",
       "</tr>\n",
       "</table>\n",
       "<table class=\"simpletable\">\n",
       "<tr>\n",
       "        <td></td>           <th>coef</th>     <th>std err</th>      <th>t</th>      <th>P>|t|</th>  <th>[0.025</th>    <th>0.975]</th>  \n",
       "</tr>\n",
       "<tr>\n",
       "  <th>Intercept</th>     <td>-5575.1401</td> <td> 1409.999</td> <td>   -3.954</td> <td> 0.000</td> <td>-8341.032</td> <td>-2809.248</td>\n",
       "</tr>\n",
       "<tr>\n",
       "  <th>Age_08_04</th>     <td> -121.6581</td> <td>    2.615</td> <td>  -46.528</td> <td> 0.000</td> <td> -126.787</td> <td> -116.529</td>\n",
       "</tr>\n",
       "<tr>\n",
       "  <th>KM</th>            <td>   -0.0208</td> <td>    0.001</td> <td>  -16.636</td> <td> 0.000</td> <td>   -0.023</td> <td>   -0.018</td>\n",
       "</tr>\n",
       "<tr>\n",
       "  <th>HP</th>            <td>   31.6728</td> <td>    2.810</td> <td>   11.270</td> <td> 0.000</td> <td>   26.160</td> <td>   37.186</td>\n",
       "</tr>\n",
       "<tr>\n",
       "  <th>cc</th>            <td>   -0.1210</td> <td>    0.090</td> <td>   -1.344</td> <td> 0.179</td> <td>   -0.298</td> <td>    0.056</td>\n",
       "</tr>\n",
       "<tr>\n",
       "  <th>Gears</th>         <td>  595.8324</td> <td>  193.400</td> <td>    3.081</td> <td> 0.002</td> <td>  216.453</td> <td>  975.212</td>\n",
       "</tr>\n",
       "<tr>\n",
       "  <th>Quarterly_Tax</th> <td>    3.9531</td> <td>    1.306</td> <td>    3.027</td> <td> 0.003</td> <td>    1.391</td> <td>    6.515</td>\n",
       "</tr>\n",
       "<tr>\n",
       "  <th>Weight</th>        <td>   16.9478</td> <td>    1.033</td> <td>   16.401</td> <td> 0.000</td> <td>   14.921</td> <td>   18.975</td>\n",
       "</tr>\n",
       "</table>\n",
       "<table class=\"simpletable\">\n",
       "<tr>\n",
       "  <th>Omnibus:</th>       <td>151.495</td> <th>  Durbin-Watson:     </th> <td>   1.543</td> \n",
       "</tr>\n",
       "<tr>\n",
       "  <th>Prob(Omnibus):</th> <td> 0.000</td>  <th>  Jarque-Bera (JB):  </th> <td>1009.287</td> \n",
       "</tr>\n",
       "<tr>\n",
       "  <th>Skew:</th>          <td>-0.218</td>  <th>  Prob(JB):          </th> <td>6.86e-220</td>\n",
       "</tr>\n",
       "<tr>\n",
       "  <th>Kurtosis:</th>      <td> 7.084</td>  <th>  Cond. No.          </th> <td>3.12e+06</td> \n",
       "</tr>\n",
       "</table><br/><br/>Notes:<br/>[1] Standard Errors assume that the covariance matrix of the errors is correctly specified.<br/>[2] The condition number is large, 3.12e+06. This might indicate that there are<br/>strong multicollinearity or other numerical problems."
      ],
      "text/plain": [
       "<class 'statsmodels.iolib.summary.Summary'>\n",
       "\"\"\"\n",
       "                            OLS Regression Results                            \n",
       "==============================================================================\n",
       "Dep. Variable:                  Price   R-squared:                       0.864\n",
       "Model:                            OLS   Adj. R-squared:                  0.863\n",
       "Method:                 Least Squares   F-statistic:                     1293.\n",
       "Date:                Sat, 02 Oct 2021   Prob (F-statistic):               0.00\n",
       "Time:                        14:57:11   Log-Likelihood:                -12376.\n",
       "No. Observations:                1436   AIC:                         2.477e+04\n",
       "Df Residuals:                    1428   BIC:                         2.481e+04\n",
       "Df Model:                           7                                         \n",
       "Covariance Type:            nonrobust                                         \n",
       "=================================================================================\n",
       "                    coef    std err          t      P>|t|      [0.025      0.975]\n",
       "---------------------------------------------------------------------------------\n",
       "Intercept     -5575.1401   1409.999     -3.954      0.000   -8341.032   -2809.248\n",
       "Age_08_04      -121.6581      2.615    -46.528      0.000    -126.787    -116.529\n",
       "KM               -0.0208      0.001    -16.636      0.000      -0.023      -0.018\n",
       "HP               31.6728      2.810     11.270      0.000      26.160      37.186\n",
       "cc               -0.1210      0.090     -1.344      0.179      -0.298       0.056\n",
       "Gears           595.8324    193.400      3.081      0.002     216.453     975.212\n",
       "Quarterly_Tax     3.9531      1.306      3.027      0.003       1.391       6.515\n",
       "Weight           16.9478      1.033     16.401      0.000      14.921      18.975\n",
       "==============================================================================\n",
       "Omnibus:                      151.495   Durbin-Watson:                   1.543\n",
       "Prob(Omnibus):                  0.000   Jarque-Bera (JB):             1009.287\n",
       "Skew:                          -0.218   Prob(JB):                    6.86e-220\n",
       "Kurtosis:                       7.084   Cond. No.                     3.12e+06\n",
       "==============================================================================\n",
       "\n",
       "Notes:\n",
       "[1] Standard Errors assume that the covariance matrix of the errors is correctly specified.\n",
       "[2] The condition number is large, 3.12e+06. This might indicate that there are\n",
       "strong multicollinearity or other numerical problems.\n",
       "\"\"\""
      ]
     },
     "execution_count": 28,
     "metadata": {},
     "output_type": "execute_result"
    }
   ],
   "source": [
    "model2.summary()"
   ]
  },
  {
   "cell_type": "code",
   "execution_count": 29,
   "id": "51bedf7b",
   "metadata": {},
   "outputs": [
    {
     "data": {
      "text/plain": [
       "array([6.96739575e-03, 3.75784888e-03, 5.28338875e-03, ...,\n",
       "       9.42322432e-07, 7.44544703e-04, 1.20232081e-02])"
      ]
     },
     "execution_count": 29,
     "metadata": {},
     "output_type": "execute_result"
    }
   ],
   "source": [
    "model_influence = model2.get_influence()\n",
    "(c,_) = model_influence.cooks_distance\n",
    "c"
   ]
  },
  {
   "cell_type": "code",
   "execution_count": 30,
   "id": "6c9c36da",
   "metadata": {},
   "outputs": [
    {
     "data": {
      "image/png": "[encoded data removed]",
      "text/plain": [
       "<Figure size 1440x504 with 1 Axes>"
      ]
     },
     "metadata": {
      "needs_background": "light"
     },
     "output_type": "display_data"
    }
   ],
   "source": [
    "fig = plt.subplots(figsize=(20, 7))\n",
    "plt.stem(np.arange(len(data)), np.round(c, 3)) \n",
    "plt.xlabel('Row index')\n",
    "plt.ylabel('cooks Distance')\n",
    "plt.show()"
   ]
  },
  {
   "cell_type": "code",
   "execution_count": 31,
   "id": "b8f1e7ab",
   "metadata": {},
   "outputs": [
    {
     "data": {
      "text/html": [
       "<div>\n",
       "<style scoped>\n",
       "    .dataframe tbody tr th:only-of-type {\n",
       "        vertical-align: middle;\n",
       "    }\n",
       "\n",
       "    .dataframe tbody tr th {\n",
       "        vertical-align: top;\n",
       "    }\n",
       "\n",
       "    .dataframe thead th {\n",
       "        text-align: right;\n",
       "    }\n",
       "</style>\n",
       "<table border=\"1\" class=\"dataframe\">\n",
       "  <thead>\n",
       "    <tr style=\"text-align: right;\">\n",
       "      <th></th>\n",
       "      <th>Price</th>\n",
       "      <th>Age_08_04</th>\n",
       "      <th>KM</th>\n",
       "      <th>HP</th>\n",
       "      <th>cc</th>\n",
       "      <th>Gears</th>\n",
       "      <th>Quarterly_Tax</th>\n",
       "      <th>Weight</th>\n",
       "    </tr>\n",
       "  </thead>\n",
       "  <tbody>\n",
       "    <tr>\n",
       "      <th>80</th>\n",
       "      <td>18950</td>\n",
       "      <td>25</td>\n",
       "      <td>20019</td>\n",
       "      <td>110</td>\n",
       "      <td>16000</td>\n",
       "      <td>5</td>\n",
       "      <td>100</td>\n",
       "      <td>1180</td>\n",
       "    </tr>\n",
       "    <tr>\n",
       "      <th>221</th>\n",
       "      <td>12450</td>\n",
       "      <td>44</td>\n",
       "      <td>74172</td>\n",
       "      <td>110</td>\n",
       "      <td>1600</td>\n",
       "      <td>5</td>\n",
       "      <td>163</td>\n",
       "      <td>1615</td>\n",
       "    </tr>\n",
       "    <tr>\n",
       "      <th>960</th>\n",
       "      <td>9390</td>\n",
       "      <td>66</td>\n",
       "      <td>50806</td>\n",
       "      <td>86</td>\n",
       "      <td>1300</td>\n",
       "      <td>5</td>\n",
       "      <td>19</td>\n",
       "      <td>1480</td>\n",
       "    </tr>\n",
       "  </tbody>\n",
       "</table>\n",
       "</div>"
      ],
      "text/plain": [
       "     Price  Age_08_04     KM   HP     cc  Gears  Quarterly_Tax  Weight\n",
       "80   18950         25  20019  110  16000      5            100    1180\n",
       "221  12450         44  74172  110   1600      5            163    1615\n",
       "960   9390         66  50806   86   1300      5             19    1480"
      ]
     },
     "execution_count": 31,
     "metadata": {},
     "output_type": "execute_result"
    }
   ],
   "source": [
    "data.iloc[c>0.5] "
   ]
  },
  {
   "cell_type": "code",
   "execution_count": 32,
   "id": "9f7727e5",
   "metadata": {},
   "outputs": [
    {
     "data": {
      "image/png": "[encoded data removed]",
      "text/plain": [
       "<Figure size 432x288 with 1 Axes>"
      ]
     },
     "metadata": {
      "needs_background": "light"
     },
     "output_type": "display_data"
    }
   ],
   "source": [
    "from statsmodels.graphics.regressionplots import influence_plot\n",
    "influence_plot(model2)\n",
    "plt.show()"
   ]
  },
  {
   "cell_type": "code",
   "execution_count": 33,
   "id": "7b402553",
   "metadata": {},
   "outputs": [],
   "source": [
    "#data1 = data.drop([80,221,960], axis=0)\n",
    "#data1"
   ]
  },
  {
   "cell_type": "code",
   "execution_count": 34,
   "id": "b6a21e55",
   "metadata": {},
   "outputs": [],
   "source": [
    "data.drop([80,221,960], inplace=True, axis=0)"
   ]
  },
  {
   "cell_type": "code",
   "execution_count": 35,
   "id": "8a57d184",
   "metadata": {},
   "outputs": [
    {
     "name": "stdout",
     "output_type": "stream",
     "text": [
      "<class 'pandas.core.frame.DataFrame'>\n",
      "Int64Index: 1433 entries, 0 to 1435\n",
      "Data columns (total 8 columns):\n",
      " #   Column         Non-Null Count  Dtype\n",
      "---  ------         --------------  -----\n",
      " 0   Price          1433 non-null   int64\n",
      " 1   Age_08_04      1433 non-null   int64\n",
      " 2   KM             1433 non-null   int64\n",
      " 3   HP             1433 non-null   int64\n",
      " 4   cc             1433 non-null   int64\n",
      " 5   Gears          1433 non-null   int64\n",
      " 6   Quarterly_Tax  1433 non-null   int64\n",
      " 7   Weight         1433 non-null   int64\n",
      "dtypes: int64(8)\n",
      "memory usage: 100.8 KB\n"
     ]
    }
   ],
   "source": [
    "data.info()"
   ]
  },
  {
   "cell_type": "code",
   "execution_count": 36,
   "id": "d5c18911",
   "metadata": {},
   "outputs": [
    {
     "data": {
      "text/plain": [
       "(1433, 8)"
      ]
     },
     "execution_count": 36,
     "metadata": {},
     "output_type": "execute_result"
    }
   ],
   "source": [
    "data.shape"
   ]
  },
  {
   "cell_type": "code",
   "execution_count": 37,
   "id": "94f02e94",
   "metadata": {},
   "outputs": [
    {
     "data": {
      "text/plain": [
       "(1433, 8)"
      ]
     },
     "execution_count": 37,
     "metadata": {},
     "output_type": "execute_result"
    }
   ],
   "source": [
    "data.shape"
   ]
  },
  {
   "cell_type": "code",
   "execution_count": 38,
   "id": "fea99ff1",
   "metadata": {},
   "outputs": [
    {
     "data": {
      "text/html": [
       "<div>\n",
       "<style scoped>\n",
       "    .dataframe tbody tr th:only-of-type {\n",
       "        vertical-align: middle;\n",
       "    }\n",
       "\n",
       "    .dataframe tbody tr th {\n",
       "        vertical-align: top;\n",
       "    }\n",
       "\n",
       "    .dataframe thead th {\n",
       "        text-align: right;\n",
       "    }\n",
       "</style>\n",
       "<table border=\"1\" class=\"dataframe\">\n",
       "  <thead>\n",
       "    <tr style=\"text-align: right;\">\n",
       "      <th></th>\n",
       "      <th>Price</th>\n",
       "      <th>Age_08_04</th>\n",
       "      <th>KM</th>\n",
       "      <th>HP</th>\n",
       "      <th>cc</th>\n",
       "      <th>Gears</th>\n",
       "      <th>Quarterly_Tax</th>\n",
       "      <th>Weight</th>\n",
       "    </tr>\n",
       "  </thead>\n",
       "  <tbody>\n",
       "    <tr>\n",
       "      <th>0</th>\n",
       "      <td>13500</td>\n",
       "      <td>23</td>\n",
       "      <td>46986</td>\n",
       "      <td>90</td>\n",
       "      <td>2000</td>\n",
       "      <td>5</td>\n",
       "      <td>210</td>\n",
       "      <td>1165</td>\n",
       "    </tr>\n",
       "    <tr>\n",
       "      <th>1</th>\n",
       "      <td>13750</td>\n",
       "      <td>23</td>\n",
       "      <td>72937</td>\n",
       "      <td>90</td>\n",
       "      <td>2000</td>\n",
       "      <td>5</td>\n",
       "      <td>210</td>\n",
       "      <td>1165</td>\n",
       "    </tr>\n",
       "    <tr>\n",
       "      <th>2</th>\n",
       "      <td>13950</td>\n",
       "      <td>24</td>\n",
       "      <td>41711</td>\n",
       "      <td>90</td>\n",
       "      <td>2000</td>\n",
       "      <td>5</td>\n",
       "      <td>210</td>\n",
       "      <td>1165</td>\n",
       "    </tr>\n",
       "    <tr>\n",
       "      <th>3</th>\n",
       "      <td>14950</td>\n",
       "      <td>26</td>\n",
       "      <td>48000</td>\n",
       "      <td>90</td>\n",
       "      <td>2000</td>\n",
       "      <td>5</td>\n",
       "      <td>210</td>\n",
       "      <td>1165</td>\n",
       "    </tr>\n",
       "    <tr>\n",
       "      <th>4</th>\n",
       "      <td>13750</td>\n",
       "      <td>30</td>\n",
       "      <td>38500</td>\n",
       "      <td>90</td>\n",
       "      <td>2000</td>\n",
       "      <td>5</td>\n",
       "      <td>210</td>\n",
       "      <td>1170</td>\n",
       "    </tr>\n",
       "  </tbody>\n",
       "</table>\n",
       "</div>"
      ],
      "text/plain": [
       "   Price  Age_08_04     KM  HP    cc  Gears  Quarterly_Tax  Weight\n",
       "0  13500         23  46986  90  2000      5            210    1165\n",
       "1  13750         23  72937  90  2000      5            210    1165\n",
       "2  13950         24  41711  90  2000      5            210    1165\n",
       "3  14950         26  48000  90  2000      5            210    1165\n",
       "4  13750         30  38500  90  2000      5            210    1170"
      ]
     },
     "execution_count": 38,
     "metadata": {},
     "output_type": "execute_result"
    }
   ],
   "source": [
    "data.head()"
   ]
  },
  {
   "cell_type": "code",
   "execution_count": 39,
   "id": "aadd3b47",
   "metadata": {},
   "outputs": [],
   "source": [
    "import statsmodels.formula.api as smf"
   ]
  },
  {
   "cell_type": "code",
   "execution_count": 40,
   "id": "7b50d17b",
   "metadata": {},
   "outputs": [],
   "source": [
    "import statsmodels.formula.api as smf\n",
    "model3=smf.ols(\"Price~Age_08_04+KM+HP+cc+Gears+Quarterly_Tax+Weight\", data=data).fit()"
   ]
  },
  {
   "cell_type": "code",
   "execution_count": 41,
   "id": "bcf4bedf",
   "metadata": {},
   "outputs": [
    {
     "data": {
      "text/html": [
       "<table class=\"simpletable\">\n",
       "<caption>OLS Regression Results</caption>\n",
       "<tr>\n",
       "  <th>Dep. Variable:</th>          <td>Price</td>      <th>  R-squared:         </th> <td>   0.884</td> \n",
       "</tr>\n",
       "<tr>\n",
       "  <th>Model:</th>                   <td>OLS</td>       <th>  Adj. R-squared:    </th> <td>   0.884</td> \n",
       "</tr>\n",
       "<tr>\n",
       "  <th>Method:</th>             <td>Least Squares</td>  <th>  F-statistic:       </th> <td>   1556.</td> \n",
       "</tr>\n",
       "<tr>\n",
       "  <th>Date:</th>             <td>Sat, 02 Oct 2021</td> <th>  Prob (F-statistic):</th>  <td>  0.00</td>  \n",
       "</tr>\n",
       "<tr>\n",
       "  <th>Time:</th>                 <td>14:57:15</td>     <th>  Log-Likelihood:    </th> <td> -12231.</td> \n",
       "</tr>\n",
       "<tr>\n",
       "  <th>No. Observations:</th>      <td>  1433</td>      <th>  AIC:               </th> <td>2.448e+04</td>\n",
       "</tr>\n",
       "<tr>\n",
       "  <th>Df Residuals:</th>          <td>  1425</td>      <th>  BIC:               </th> <td>2.452e+04</td>\n",
       "</tr>\n",
       "<tr>\n",
       "  <th>Df Model:</th>              <td>     7</td>      <th>                     </th>     <td> </td>    \n",
       "</tr>\n",
       "<tr>\n",
       "  <th>Covariance Type:</th>      <td>nonrobust</td>    <th>                     </th>     <td> </td>    \n",
       "</tr>\n",
       "</table>\n",
       "<table class=\"simpletable\">\n",
       "<tr>\n",
       "        <td></td>           <th>coef</th>     <th>std err</th>      <th>t</th>      <th>P>|t|</th>  <th>[0.025</th>    <th>0.975]</th>  \n",
       "</tr>\n",
       "<tr>\n",
       "  <th>Intercept</th>     <td> -1.45e+04</td> <td> 1435.850</td> <td>  -10.098</td> <td> 0.000</td> <td>-1.73e+04</td> <td>-1.17e+04</td>\n",
       "</tr>\n",
       "<tr>\n",
       "  <th>Age_08_04</th>     <td> -112.4015</td> <td>    2.485</td> <td>  -45.237</td> <td> 0.000</td> <td> -117.276</td> <td> -107.527</td>\n",
       "</tr>\n",
       "<tr>\n",
       "  <th>KM</th>            <td>   -0.0172</td> <td>    0.001</td> <td>  -14.328</td> <td> 0.000</td> <td>   -0.020</td> <td>   -0.015</td>\n",
       "</tr>\n",
       "<tr>\n",
       "  <th>HP</th>            <td>   35.9449</td> <td>    2.747</td> <td>   13.084</td> <td> 0.000</td> <td>   30.556</td> <td>   41.334</td>\n",
       "</tr>\n",
       "<tr>\n",
       "  <th>cc</th>            <td>   -3.6665</td> <td>    0.301</td> <td>  -12.198</td> <td> 0.000</td> <td>   -4.256</td> <td>   -3.077</td>\n",
       "</tr>\n",
       "<tr>\n",
       "  <th>Gears</th>         <td>  579.2745</td> <td>  178.171</td> <td>    3.251</td> <td> 0.001</td> <td>  229.769</td> <td>  928.780</td>\n",
       "</tr>\n",
       "<tr>\n",
       "  <th>Quarterly_Tax</th> <td>    5.5368</td> <td>    1.372</td> <td>    4.034</td> <td> 0.000</td> <td>    2.845</td> <td>    8.229</td>\n",
       "</tr>\n",
       "<tr>\n",
       "  <th>Weight</th>        <td>   29.2975</td> <td>    1.227</td> <td>   23.872</td> <td> 0.000</td> <td>   26.890</td> <td>   31.705</td>\n",
       "</tr>\n",
       "</table>\n",
       "<table class=\"simpletable\">\n",
       "<tr>\n",
       "  <th>Omnibus:</th>       <td>109.903</td> <th>  Durbin-Watson:     </th> <td>   1.695</td> \n",
       "</tr>\n",
       "<tr>\n",
       "  <th>Prob(Omnibus):</th> <td> 0.000</td>  <th>  Jarque-Bera (JB):  </th> <td> 570.356</td> \n",
       "</tr>\n",
       "<tr>\n",
       "  <th>Skew:</th>          <td>-0.060</td>  <th>  Prob(JB):          </th> <td>1.41e-124</td>\n",
       "</tr>\n",
       "<tr>\n",
       "  <th>Kurtosis:</th>      <td> 6.088</td>  <th>  Cond. No.          </th> <td>3.45e+06</td> \n",
       "</tr>\n",
       "</table><br/><br/>Notes:<br/>[1] Standard Errors assume that the covariance matrix of the errors is correctly specified.<br/>[2] The condition number is large, 3.45e+06. This might indicate that there are<br/>strong multicollinearity or other numerical problems."
      ],
      "text/plain": [
       "<class 'statsmodels.iolib.summary.Summary'>\n",
       "\"\"\"\n",
       "                            OLS Regression Results                            \n",
       "==============================================================================\n",
       "Dep. Variable:                  Price   R-squared:                       0.884\n",
       "Model:                            OLS   Adj. R-squared:                  0.884\n",
       "Method:                 Least Squares   F-statistic:                     1556.\n",
       "Date:                Sat, 02 Oct 2021   Prob (F-statistic):               0.00\n",
       "Time:                        14:57:15   Log-Likelihood:                -12231.\n",
       "No. Observations:                1433   AIC:                         2.448e+04\n",
       "Df Residuals:                    1425   BIC:                         2.452e+04\n",
       "Df Model:                           7                                         \n",
       "Covariance Type:            nonrobust                                         \n",
       "=================================================================================\n",
       "                    coef    std err          t      P>|t|      [0.025      0.975]\n",
       "---------------------------------------------------------------------------------\n",
       "Intercept      -1.45e+04   1435.850    -10.098      0.000   -1.73e+04   -1.17e+04\n",
       "Age_08_04      -112.4015      2.485    -45.237      0.000    -117.276    -107.527\n",
       "KM               -0.0172      0.001    -14.328      0.000      -0.020      -0.015\n",
       "HP               35.9449      2.747     13.084      0.000      30.556      41.334\n",
       "cc               -3.6665      0.301    -12.198      0.000      -4.256      -3.077\n",
       "Gears           579.2745    178.171      3.251      0.001     229.769     928.780\n",
       "Quarterly_Tax     5.5368      1.372      4.034      0.000       2.845       8.229\n",
       "Weight           29.2975      1.227     23.872      0.000      26.890      31.705\n",
       "==============================================================================\n",
       "Omnibus:                      109.903   Durbin-Watson:                   1.695\n",
       "Prob(Omnibus):                  0.000   Jarque-Bera (JB):              570.356\n",
       "Skew:                          -0.060   Prob(JB):                    1.41e-124\n",
       "Kurtosis:                       6.088   Cond. No.                     3.45e+06\n",
       "==============================================================================\n",
       "\n",
       "Notes:\n",
       "[1] Standard Errors assume that the covariance matrix of the errors is correctly specified.\n",
       "[2] The condition number is large, 3.45e+06. This might indicate that there are\n",
       "strong multicollinearity or other numerical problems.\n",
       "\"\"\""
      ]
     },
     "execution_count": 41,
     "metadata": {},
     "output_type": "execute_result"
    }
   ],
   "source": [
    "model3.summary()"
   ]
  },
  {
   "cell_type": "code",
   "execution_count": 42,
   "id": "ee520d9c",
   "metadata": {},
   "outputs": [
    {
     "data": {
      "text/plain": [
       "array([6.22245129e-03, 3.07866703e-03, 4.35764075e-03, ...,\n",
       "       2.38468259e-06, 1.04498334e-03, 2.07193212e-02])"
      ]
     },
     "execution_count": 42,
     "metadata": {},
     "output_type": "execute_result"
    }
   ],
   "source": [
    "model_influence = model3.get_influence()\n",
    "(c,_) = model_influence.cooks_distance\n",
    "c"
   ]
  },
  {
   "cell_type": "code",
   "execution_count": 43,
   "id": "449b4764",
   "metadata": {},
   "outputs": [
    {
     "data": {
      "image/png": "[encoded data removed]",
      "text/plain": [
       "<Figure size 1440x504 with 1 Axes>"
      ]
     },
     "metadata": {
      "needs_background": "light"
     },
     "output_type": "display_data"
    }
   ],
   "source": [
    "fig = plt.subplots(figsize=(20, 7))\n",
    "plt.stem(np.arange(len(data)), np.round(c, 3)) \n",
    "plt.xlabel('Row index')\n",
    "plt.ylabel('cooks Distance')\n",
    "plt.show()"
   ]
  },
  {
   "cell_type": "code",
   "execution_count": 44,
   "id": "93719f28",
   "metadata": {},
   "outputs": [],
   "source": [
    "#data.iloc[c>0.5] "
   ]
  },
  {
   "cell_type": "code",
   "execution_count": 45,
   "id": "09df58a0",
   "metadata": {},
   "outputs": [],
   "source": [
    "from statsmodels.graphics.regressionplots import influence_plot"
   ]
  },
  {
   "cell_type": "code",
   "execution_count": 46,
   "id": "55dbeefc",
   "metadata": {},
   "outputs": [
    {
     "data": {
      "image/png": "[encoded data removed]",
      "text/plain": [
       "<Figure size 432x288 with 1 Axes>"
      ]
     },
     "metadata": {
      "needs_background": "light"
     },
     "output_type": "display_data"
    }
   ],
   "source": [
    "influence_plot(model)\n",
    "plt.show()"
   ]
  },
  {
   "cell_type": "code",
   "execution_count": 47,
   "id": "2bd0394f",
   "metadata": {},
   "outputs": [
    {
     "data": {
      "text/plain": [
       "0.01884159106769016"
      ]
     },
     "execution_count": 47,
     "metadata": {},
     "output_type": "execute_result"
    }
   ],
   "source": [
    "k =8\n",
    "n=1433\n",
    "\n",
    "treshold=3*((k+1)/n)\n",
    "\n",
    "treshold"
   ]
  },
  {
   "cell_type": "code",
   "execution_count": 48,
   "id": "fb8014f4",
   "metadata": {},
   "outputs": [
    {
     "data": {
      "text/plain": [
       "(599, 0.28772293638956453)"
      ]
     },
     "execution_count": 48,
     "metadata": {},
     "output_type": "execute_result"
    }
   ],
   "source": [
    "np.argmax(c) , np.max(c)"
   ]
  },
  {
   "cell_type": "code",
   "execution_count": 49,
   "id": "aae2c584",
   "metadata": {},
   "outputs": [
    {
     "data": {
      "text/html": [
       "<div>\n",
       "<style scoped>\n",
       "    .dataframe tbody tr th:only-of-type {\n",
       "        vertical-align: middle;\n",
       "    }\n",
       "\n",
       "    .dataframe tbody tr th {\n",
       "        vertical-align: top;\n",
       "    }\n",
       "\n",
       "    .dataframe thead th {\n",
       "        text-align: right;\n",
       "    }\n",
       "</style>\n",
       "<table border=\"1\" class=\"dataframe\">\n",
       "  <thead>\n",
       "    <tr style=\"text-align: right;\">\n",
       "      <th></th>\n",
       "      <th>Price</th>\n",
       "      <th>Age_08_04</th>\n",
       "      <th>KM</th>\n",
       "      <th>HP</th>\n",
       "      <th>cc</th>\n",
       "      <th>Gears</th>\n",
       "      <th>Quarterly_Tax</th>\n",
       "      <th>Weight</th>\n",
       "    </tr>\n",
       "  </thead>\n",
       "  <tbody>\n",
       "    <tr>\n",
       "      <th>0</th>\n",
       "      <td>13500</td>\n",
       "      <td>23</td>\n",
       "      <td>46986</td>\n",
       "      <td>90</td>\n",
       "      <td>2000</td>\n",
       "      <td>5</td>\n",
       "      <td>210</td>\n",
       "      <td>1165</td>\n",
       "    </tr>\n",
       "    <tr>\n",
       "      <th>1</th>\n",
       "      <td>13750</td>\n",
       "      <td>23</td>\n",
       "      <td>72937</td>\n",
       "      <td>90</td>\n",
       "      <td>2000</td>\n",
       "      <td>5</td>\n",
       "      <td>210</td>\n",
       "      <td>1165</td>\n",
       "    </tr>\n",
       "    <tr>\n",
       "      <th>2</th>\n",
       "      <td>13950</td>\n",
       "      <td>24</td>\n",
       "      <td>41711</td>\n",
       "      <td>90</td>\n",
       "      <td>2000</td>\n",
       "      <td>5</td>\n",
       "      <td>210</td>\n",
       "      <td>1165</td>\n",
       "    </tr>\n",
       "    <tr>\n",
       "      <th>3</th>\n",
       "      <td>14950</td>\n",
       "      <td>26</td>\n",
       "      <td>48000</td>\n",
       "      <td>90</td>\n",
       "      <td>2000</td>\n",
       "      <td>5</td>\n",
       "      <td>210</td>\n",
       "      <td>1165</td>\n",
       "    </tr>\n",
       "    <tr>\n",
       "      <th>4</th>\n",
       "      <td>13750</td>\n",
       "      <td>30</td>\n",
       "      <td>38500</td>\n",
       "      <td>90</td>\n",
       "      <td>2000</td>\n",
       "      <td>5</td>\n",
       "      <td>210</td>\n",
       "      <td>1170</td>\n",
       "    </tr>\n",
       "    <tr>\n",
       "      <th>...</th>\n",
       "      <td>...</td>\n",
       "      <td>...</td>\n",
       "      <td>...</td>\n",
       "      <td>...</td>\n",
       "      <td>...</td>\n",
       "      <td>...</td>\n",
       "      <td>...</td>\n",
       "      <td>...</td>\n",
       "    </tr>\n",
       "    <tr>\n",
       "      <th>1431</th>\n",
       "      <td>7500</td>\n",
       "      <td>69</td>\n",
       "      <td>20544</td>\n",
       "      <td>86</td>\n",
       "      <td>1300</td>\n",
       "      <td>5</td>\n",
       "      <td>69</td>\n",
       "      <td>1025</td>\n",
       "    </tr>\n",
       "    <tr>\n",
       "      <th>1432</th>\n",
       "      <td>10845</td>\n",
       "      <td>72</td>\n",
       "      <td>19000</td>\n",
       "      <td>86</td>\n",
       "      <td>1300</td>\n",
       "      <td>5</td>\n",
       "      <td>69</td>\n",
       "      <td>1015</td>\n",
       "    </tr>\n",
       "    <tr>\n",
       "      <th>1433</th>\n",
       "      <td>8500</td>\n",
       "      <td>71</td>\n",
       "      <td>17016</td>\n",
       "      <td>86</td>\n",
       "      <td>1300</td>\n",
       "      <td>5</td>\n",
       "      <td>69</td>\n",
       "      <td>1015</td>\n",
       "    </tr>\n",
       "    <tr>\n",
       "      <th>1434</th>\n",
       "      <td>7250</td>\n",
       "      <td>70</td>\n",
       "      <td>16916</td>\n",
       "      <td>86</td>\n",
       "      <td>1300</td>\n",
       "      <td>5</td>\n",
       "      <td>69</td>\n",
       "      <td>1015</td>\n",
       "    </tr>\n",
       "    <tr>\n",
       "      <th>1435</th>\n",
       "      <td>6950</td>\n",
       "      <td>76</td>\n",
       "      <td>1</td>\n",
       "      <td>110</td>\n",
       "      <td>1600</td>\n",
       "      <td>5</td>\n",
       "      <td>19</td>\n",
       "      <td>1114</td>\n",
       "    </tr>\n",
       "  </tbody>\n",
       "</table>\n",
       "<p>1431 rows × 8 columns</p>\n",
       "</div>"
      ],
      "text/plain": [
       "      Price  Age_08_04     KM   HP    cc  Gears  Quarterly_Tax  Weight\n",
       "0     13500         23  46986   90  2000      5            210    1165\n",
       "1     13750         23  72937   90  2000      5            210    1165\n",
       "2     13950         24  41711   90  2000      5            210    1165\n",
       "3     14950         26  48000   90  2000      5            210    1165\n",
       "4     13750         30  38500   90  2000      5            210    1170\n",
       "...     ...        ...    ...  ...   ...    ...            ...     ...\n",
       "1431   7500         69  20544   86  1300      5             69    1025\n",
       "1432  10845         72  19000   86  1300      5             69    1015\n",
       "1433   8500         71  17016   86  1300      5             69    1015\n",
       "1434   7250         70  16916   86  1300      5             69    1015\n",
       "1435   6950         76      1  110  1600      5             19    1114\n",
       "\n",
       "[1431 rows x 8 columns]"
      ]
     },
     "execution_count": 49,
     "metadata": {},
     "output_type": "execute_result"
    }
   ],
   "source": [
    "data1 = data.drop([598,601],axis=0)\n",
    "data1"
   ]
  },
  {
   "cell_type": "code",
   "execution_count": 50,
   "id": "eed2ad9a",
   "metadata": {},
   "outputs": [
    {
     "data": {
      "text/plain": [
       "(1431, 8)"
      ]
     },
     "execution_count": 50,
     "metadata": {},
     "output_type": "execute_result"
    }
   ],
   "source": [
    "data1.shape"
   ]
  },
  {
   "cell_type": "code",
   "execution_count": 51,
   "id": "e60aadbc",
   "metadata": {},
   "outputs": [],
   "source": [
    "import statsmodels.formula.api as smf\n",
    "model4=smf.ols(\"Price~Age_08_04+KM+HP+cc+Gears+Quarterly_Tax+Weight\", data=data1).fit()"
   ]
  },
  {
   "cell_type": "code",
   "execution_count": 52,
   "id": "bc87297d",
   "metadata": {},
   "outputs": [
    {
     "data": {
      "text/html": [
       "<table class=\"simpletable\">\n",
       "<caption>OLS Regression Results</caption>\n",
       "<tr>\n",
       "  <th>Dep. Variable:</th>          <td>Price</td>      <th>  R-squared:         </th> <td>   0.888</td> \n",
       "</tr>\n",
       "<tr>\n",
       "  <th>Model:</th>                   <td>OLS</td>       <th>  Adj. R-squared:    </th> <td>   0.888</td> \n",
       "</tr>\n",
       "<tr>\n",
       "  <th>Method:</th>             <td>Least Squares</td>  <th>  F-statistic:       </th> <td>   1617.</td> \n",
       "</tr>\n",
       "<tr>\n",
       "  <th>Date:</th>             <td>Sat, 02 Oct 2021</td> <th>  Prob (F-statistic):</th>  <td>  0.00</td>  \n",
       "</tr>\n",
       "<tr>\n",
       "  <th>Time:</th>                 <td>14:57:19</td>     <th>  Log-Likelihood:    </th> <td> -12190.</td> \n",
       "</tr>\n",
       "<tr>\n",
       "  <th>No. Observations:</th>      <td>  1431</td>      <th>  AIC:               </th> <td>2.440e+04</td>\n",
       "</tr>\n",
       "<tr>\n",
       "  <th>Df Residuals:</th>          <td>  1423</td>      <th>  BIC:               </th> <td>2.444e+04</td>\n",
       "</tr>\n",
       "<tr>\n",
       "  <th>Df Model:</th>              <td>     7</td>      <th>                     </th>     <td> </td>    \n",
       "</tr>\n",
       "<tr>\n",
       "  <th>Covariance Type:</th>      <td>nonrobust</td>    <th>                     </th>     <td> </td>    \n",
       "</tr>\n",
       "</table>\n",
       "<table class=\"simpletable\">\n",
       "<tr>\n",
       "        <td></td>           <th>coef</th>     <th>std err</th>      <th>t</th>      <th>P>|t|</th>  <th>[0.025</th>    <th>0.975]</th>  \n",
       "</tr>\n",
       "<tr>\n",
       "  <th>Intercept</th>     <td> -1.58e+04</td> <td> 1424.602</td> <td>  -11.093</td> <td> 0.000</td> <td>-1.86e+04</td> <td> -1.3e+04</td>\n",
       "</tr>\n",
       "<tr>\n",
       "  <th>Age_08_04</th>     <td> -110.8609</td> <td>    2.453</td> <td>  -45.203</td> <td> 0.000</td> <td> -115.672</td> <td> -106.050</td>\n",
       "</tr>\n",
       "<tr>\n",
       "  <th>KM</th>            <td>   -0.0180</td> <td>    0.001</td> <td>  -15.144</td> <td> 0.000</td> <td>   -0.020</td> <td>   -0.016</td>\n",
       "</tr>\n",
       "<tr>\n",
       "  <th>HP</th>            <td>   33.5956</td> <td>    2.721</td> <td>   12.349</td> <td> 0.000</td> <td>   28.259</td> <td>   38.932</td>\n",
       "</tr>\n",
       "<tr>\n",
       "  <th>cc</th>            <td>   -3.5395</td> <td>    0.296</td> <td>  -11.956</td> <td> 0.000</td> <td>   -4.120</td> <td>   -2.959</td>\n",
       "</tr>\n",
       "<tr>\n",
       "  <th>Gears</th>         <td>  601.7330</td> <td>  175.189</td> <td>    3.435</td> <td> 0.001</td> <td>  258.076</td> <td>  945.389</td>\n",
       "</tr>\n",
       "<tr>\n",
       "  <th>Quarterly_Tax</th> <td>    4.1344</td> <td>    1.364</td> <td>    3.031</td> <td> 0.002</td> <td>    1.459</td> <td>    6.810</td>\n",
       "</tr>\n",
       "<tr>\n",
       "  <th>Weight</th>        <td>   30.5335</td> <td>    1.220</td> <td>   25.025</td> <td> 0.000</td> <td>   28.140</td> <td>   32.927</td>\n",
       "</tr>\n",
       "</table>\n",
       "<table class=\"simpletable\">\n",
       "<tr>\n",
       "  <th>Omnibus:</th>       <td>68.931</td> <th>  Durbin-Watson:     </th> <td>   1.718</td>\n",
       "</tr>\n",
       "<tr>\n",
       "  <th>Prob(Omnibus):</th> <td> 0.000</td> <th>  Jarque-Bera (JB):  </th> <td> 218.360</td>\n",
       "</tr>\n",
       "<tr>\n",
       "  <th>Skew:</th>          <td> 0.116</td> <th>  Prob(JB):          </th> <td>3.83e-48</td>\n",
       "</tr>\n",
       "<tr>\n",
       "  <th>Kurtosis:</th>      <td> 4.900</td> <th>  Cond. No.          </th> <td>3.48e+06</td>\n",
       "</tr>\n",
       "</table><br/><br/>Notes:<br/>[1] Standard Errors assume that the covariance matrix of the errors is correctly specified.<br/>[2] The condition number is large, 3.48e+06. This might indicate that there are<br/>strong multicollinearity or other numerical problems."
      ],
      "text/plain": [
       "<class 'statsmodels.iolib.summary.Summary'>\n",
       "\"\"\"\n",
       "                            OLS Regression Results                            \n",
       "==============================================================================\n",
       "Dep. Variable:                  Price   R-squared:                       0.888\n",
       "Model:                            OLS   Adj. R-squared:                  0.888\n",
       "Method:                 Least Squares   F-statistic:                     1617.\n",
       "Date:                Sat, 02 Oct 2021   Prob (F-statistic):               0.00\n",
       "Time:                        14:57:19   Log-Likelihood:                -12190.\n",
       "No. Observations:                1431   AIC:                         2.440e+04\n",
       "Df Residuals:                    1423   BIC:                         2.444e+04\n",
       "Df Model:                           7                                         \n",
       "Covariance Type:            nonrobust                                         \n",
       "=================================================================================\n",
       "                    coef    std err          t      P>|t|      [0.025      0.975]\n",
       "---------------------------------------------------------------------------------\n",
       "Intercept      -1.58e+04   1424.602    -11.093      0.000   -1.86e+04    -1.3e+04\n",
       "Age_08_04      -110.8609      2.453    -45.203      0.000    -115.672    -106.050\n",
       "KM               -0.0180      0.001    -15.144      0.000      -0.020      -0.016\n",
       "HP               33.5956      2.721     12.349      0.000      28.259      38.932\n",
       "cc               -3.5395      0.296    -11.956      0.000      -4.120      -2.959\n",
       "Gears           601.7330    175.189      3.435      0.001     258.076     945.389\n",
       "Quarterly_Tax     4.1344      1.364      3.031      0.002       1.459       6.810\n",
       "Weight           30.5335      1.220     25.025      0.000      28.140      32.927\n",
       "==============================================================================\n",
       "Omnibus:                       68.931   Durbin-Watson:                   1.718\n",
       "Prob(Omnibus):                  0.000   Jarque-Bera (JB):              218.360\n",
       "Skew:                           0.116   Prob(JB):                     3.83e-48\n",
       "Kurtosis:                       4.900   Cond. No.                     3.48e+06\n",
       "==============================================================================\n",
       "\n",
       "Notes:\n",
       "[1] Standard Errors assume that the covariance matrix of the errors is correctly specified.\n",
       "[2] The condition number is large, 3.48e+06. This might indicate that there are\n",
       "strong multicollinearity or other numerical problems.\n",
       "\"\"\""
      ]
     },
     "execution_count": 52,
     "metadata": {},
     "output_type": "execute_result"
    }
   ],
   "source": [
    "model4.summary()"
   ]
  },
  {
   "cell_type": "code",
   "execution_count": 53,
   "id": "0440690e",
   "metadata": {},
   "outputs": [
    {
     "data": {
      "text/plain": [
       "array([6.42539478e-03, 3.11646929e-03, 4.51975741e-03, ...,\n",
       "       4.73537225e-06, 1.12189149e-03, 2.49677710e-02])"
      ]
     },
     "execution_count": 53,
     "metadata": {},
     "output_type": "execute_result"
    }
   ],
   "source": [
    "model_influence = model4.get_influence()\n",
    "(c,_) = model_influence.cooks_distance\n",
    "c"
   ]
  },
  {
   "cell_type": "code",
   "execution_count": 54,
   "id": "9f2d2452",
   "metadata": {},
   "outputs": [
    {
     "data": {
      "image/png": "[encoded data removed]",
      "text/plain": [
       "<Figure size 1440x504 with 1 Axes>"
      ]
     },
     "metadata": {
      "needs_background": "light"
     },
     "output_type": "display_data"
    }
   ],
   "source": [
    "fig = plt.subplots(figsize=(20, 7))\n",
    "plt.stem(np.arange(len(data1)), np.round(c, 3)) \n",
    "plt.xlabel('Row index')\n",
    "plt.ylabel('cooks Distance')\n",
    "plt.show()"
   ]
  },
  {
   "cell_type": "code",
   "execution_count": 55,
   "id": "ef447626",
   "metadata": {},
   "outputs": [
    {
     "data": {
      "text/plain": [
       "0.01886792452830189"
      ]
     },
     "execution_count": 55,
     "metadata": {},
     "output_type": "execute_result"
    }
   ],
   "source": [
    "k =8\n",
    "n=1431\n",
    "\n",
    "treshold=3*((k+1)/n)\n",
    "\n",
    "treshold"
   ]
  },
  {
   "cell_type": "code",
   "execution_count": 56,
   "id": "12171624",
   "metadata": {},
   "outputs": [
    {
     "data": {
      "text/plain": [
       "(650, 0.12933539852644274)"
      ]
     },
     "execution_count": 56,
     "metadata": {},
     "output_type": "execute_result"
    }
   ],
   "source": [
    "# Index and value of influencer where C>0.5\n",
    "np.argmax(c) , np.max(c)"
   ]
  },
  {
   "cell_type": "code",
   "execution_count": 57,
   "id": "881d9d90",
   "metadata": {},
   "outputs": [
    {
     "data": {
      "text/html": [
       "<div>\n",
       "<style scoped>\n",
       "    .dataframe tbody tr th:only-of-type {\n",
       "        vertical-align: middle;\n",
       "    }\n",
       "\n",
       "    .dataframe tbody tr th {\n",
       "        vertical-align: top;\n",
       "    }\n",
       "\n",
       "    .dataframe thead th {\n",
       "        text-align: right;\n",
       "    }\n",
       "</style>\n",
       "<table border=\"1\" class=\"dataframe\">\n",
       "  <thead>\n",
       "    <tr style=\"text-align: right;\">\n",
       "      <th></th>\n",
       "      <th>Price</th>\n",
       "      <th>Age_08_04</th>\n",
       "      <th>KM</th>\n",
       "      <th>HP</th>\n",
       "      <th>cc</th>\n",
       "      <th>Gears</th>\n",
       "      <th>Quarterly_Tax</th>\n",
       "      <th>Weight</th>\n",
       "    </tr>\n",
       "  </thead>\n",
       "  <tbody>\n",
       "    <tr>\n",
       "      <th>0</th>\n",
       "      <td>13500</td>\n",
       "      <td>23</td>\n",
       "      <td>46986</td>\n",
       "      <td>90</td>\n",
       "      <td>2000</td>\n",
       "      <td>5</td>\n",
       "      <td>210</td>\n",
       "      <td>1165</td>\n",
       "    </tr>\n",
       "    <tr>\n",
       "      <th>1</th>\n",
       "      <td>13750</td>\n",
       "      <td>23</td>\n",
       "      <td>72937</td>\n",
       "      <td>90</td>\n",
       "      <td>2000</td>\n",
       "      <td>5</td>\n",
       "      <td>210</td>\n",
       "      <td>1165</td>\n",
       "    </tr>\n",
       "    <tr>\n",
       "      <th>2</th>\n",
       "      <td>13950</td>\n",
       "      <td>24</td>\n",
       "      <td>41711</td>\n",
       "      <td>90</td>\n",
       "      <td>2000</td>\n",
       "      <td>5</td>\n",
       "      <td>210</td>\n",
       "      <td>1165</td>\n",
       "    </tr>\n",
       "    <tr>\n",
       "      <th>3</th>\n",
       "      <td>14950</td>\n",
       "      <td>26</td>\n",
       "      <td>48000</td>\n",
       "      <td>90</td>\n",
       "      <td>2000</td>\n",
       "      <td>5</td>\n",
       "      <td>210</td>\n",
       "      <td>1165</td>\n",
       "    </tr>\n",
       "    <tr>\n",
       "      <th>4</th>\n",
       "      <td>13750</td>\n",
       "      <td>30</td>\n",
       "      <td>38500</td>\n",
       "      <td>90</td>\n",
       "      <td>2000</td>\n",
       "      <td>5</td>\n",
       "      <td>210</td>\n",
       "      <td>1170</td>\n",
       "    </tr>\n",
       "    <tr>\n",
       "      <th>...</th>\n",
       "      <td>...</td>\n",
       "      <td>...</td>\n",
       "      <td>...</td>\n",
       "      <td>...</td>\n",
       "      <td>...</td>\n",
       "      <td>...</td>\n",
       "      <td>...</td>\n",
       "      <td>...</td>\n",
       "    </tr>\n",
       "    <tr>\n",
       "      <th>1431</th>\n",
       "      <td>7500</td>\n",
       "      <td>69</td>\n",
       "      <td>20544</td>\n",
       "      <td>86</td>\n",
       "      <td>1300</td>\n",
       "      <td>5</td>\n",
       "      <td>69</td>\n",
       "      <td>1025</td>\n",
       "    </tr>\n",
       "    <tr>\n",
       "      <th>1432</th>\n",
       "      <td>10845</td>\n",
       "      <td>72</td>\n",
       "      <td>19000</td>\n",
       "      <td>86</td>\n",
       "      <td>1300</td>\n",
       "      <td>5</td>\n",
       "      <td>69</td>\n",
       "      <td>1015</td>\n",
       "    </tr>\n",
       "    <tr>\n",
       "      <th>1433</th>\n",
       "      <td>8500</td>\n",
       "      <td>71</td>\n",
       "      <td>17016</td>\n",
       "      <td>86</td>\n",
       "      <td>1300</td>\n",
       "      <td>5</td>\n",
       "      <td>69</td>\n",
       "      <td>1015</td>\n",
       "    </tr>\n",
       "    <tr>\n",
       "      <th>1434</th>\n",
       "      <td>7250</td>\n",
       "      <td>70</td>\n",
       "      <td>16916</td>\n",
       "      <td>86</td>\n",
       "      <td>1300</td>\n",
       "      <td>5</td>\n",
       "      <td>69</td>\n",
       "      <td>1015</td>\n",
       "    </tr>\n",
       "    <tr>\n",
       "      <th>1435</th>\n",
       "      <td>6950</td>\n",
       "      <td>76</td>\n",
       "      <td>1</td>\n",
       "      <td>110</td>\n",
       "      <td>1600</td>\n",
       "      <td>5</td>\n",
       "      <td>19</td>\n",
       "      <td>1114</td>\n",
       "    </tr>\n",
       "  </tbody>\n",
       "</table>\n",
       "<p>1430 rows × 8 columns</p>\n",
       "</div>"
      ],
      "text/plain": [
       "      Price  Age_08_04     KM   HP    cc  Gears  Quarterly_Tax  Weight\n",
       "0     13500         23  46986   90  2000      5            210    1165\n",
       "1     13750         23  72937   90  2000      5            210    1165\n",
       "2     13950         24  41711   90  2000      5            210    1165\n",
       "3     14950         26  48000   90  2000      5            210    1165\n",
       "4     13750         30  38500   90  2000      5            210    1170\n",
       "...     ...        ...    ...  ...   ...    ...            ...     ...\n",
       "1431   7500         69  20544   86  1300      5             69    1025\n",
       "1432  10845         72  19000   86  1300      5             69    1015\n",
       "1433   8500         71  17016   86  1300      5             69    1015\n",
       "1434   7250         70  16916   86  1300      5             69    1015\n",
       "1435   6950         76      1  110  1600      5             19    1114\n",
       "\n",
       "[1430 rows x 8 columns]"
      ]
     },
     "execution_count": 57,
     "metadata": {},
     "output_type": "execute_result"
    }
   ],
   "source": [
    "data2 = data1.drop([650],axis=0)\n",
    "data2"
   ]
  },
  {
   "cell_type": "code",
   "execution_count": 58,
   "id": "5ac7e464",
   "metadata": {},
   "outputs": [
    {
     "data": {
      "text/plain": [
       "(1430, 8)"
      ]
     },
     "execution_count": 58,
     "metadata": {},
     "output_type": "execute_result"
    }
   ],
   "source": [
    "data2.shape"
   ]
  },
  {
   "cell_type": "code",
   "execution_count": 59,
   "id": "776ae4e2",
   "metadata": {},
   "outputs": [],
   "source": [
    "import statsmodels.formula.api as smf\n",
    "model5=smf.ols(\"Price~Age_08_04+KM+HP+cc+Gears+Quarterly_Tax+Weight\", data=data2).fit()"
   ]
  },
  {
   "cell_type": "code",
   "execution_count": 60,
   "id": "d37979f4",
   "metadata": {},
   "outputs": [
    {
     "data": {
      "text/html": [
       "<table class=\"simpletable\">\n",
       "<caption>OLS Regression Results</caption>\n",
       "<tr>\n",
       "  <th>Dep. Variable:</th>          <td>Price</td>      <th>  R-squared:         </th> <td>   0.888</td> \n",
       "</tr>\n",
       "<tr>\n",
       "  <th>Model:</th>                   <td>OLS</td>       <th>  Adj. R-squared:    </th> <td>   0.888</td> \n",
       "</tr>\n",
       "<tr>\n",
       "  <th>Method:</th>             <td>Least Squares</td>  <th>  F-statistic:       </th> <td>   1616.</td> \n",
       "</tr>\n",
       "<tr>\n",
       "  <th>Date:</th>             <td>Sat, 02 Oct 2021</td> <th>  Prob (F-statistic):</th>  <td>  0.00</td>  \n",
       "</tr>\n",
       "<tr>\n",
       "  <th>Time:</th>                 <td>14:57:20</td>     <th>  Log-Likelihood:    </th> <td> -12182.</td> \n",
       "</tr>\n",
       "<tr>\n",
       "  <th>No. Observations:</th>      <td>  1430</td>      <th>  AIC:               </th> <td>2.438e+04</td>\n",
       "</tr>\n",
       "<tr>\n",
       "  <th>Df Residuals:</th>          <td>  1422</td>      <th>  BIC:               </th> <td>2.442e+04</td>\n",
       "</tr>\n",
       "<tr>\n",
       "  <th>Df Model:</th>              <td>     7</td>      <th>                     </th>     <td> </td>    \n",
       "</tr>\n",
       "<tr>\n",
       "  <th>Covariance Type:</th>      <td>nonrobust</td>    <th>                     </th>     <td> </td>    \n",
       "</tr>\n",
       "</table>\n",
       "<table class=\"simpletable\">\n",
       "<tr>\n",
       "        <td></td>           <th>coef</th>     <th>std err</th>      <th>t</th>      <th>P>|t|</th>  <th>[0.025</th>    <th>0.975]</th>  \n",
       "</tr>\n",
       "<tr>\n",
       "  <th>Intercept</th>     <td>-1.576e+04</td> <td> 1426.319</td> <td>  -11.048</td> <td> 0.000</td> <td>-1.86e+04</td> <td> -1.3e+04</td>\n",
       "</tr>\n",
       "<tr>\n",
       "  <th>Age_08_04</th>     <td> -110.8777</td> <td>    2.453</td> <td>  -45.199</td> <td> 0.000</td> <td> -115.690</td> <td> -106.066</td>\n",
       "</tr>\n",
       "<tr>\n",
       "  <th>KM</th>            <td>   -0.0179</td> <td>    0.001</td> <td>  -15.108</td> <td> 0.000</td> <td>   -0.020</td> <td>   -0.016</td>\n",
       "</tr>\n",
       "<tr>\n",
       "  <th>HP</th>            <td>   33.7616</td> <td>    2.732</td> <td>   12.359</td> <td> 0.000</td> <td>   28.403</td> <td>   39.120</td>\n",
       "</tr>\n",
       "<tr>\n",
       "  <th>cc</th>            <td>   -3.5521</td> <td>    0.297</td> <td>  -11.974</td> <td> 0.000</td> <td>   -4.134</td> <td>   -2.970</td>\n",
       "</tr>\n",
       "<tr>\n",
       "  <th>Gears</th>         <td>  599.3272</td> <td>  175.257</td> <td>    3.420</td> <td> 0.001</td> <td>  255.538</td> <td>  943.116</td>\n",
       "</tr>\n",
       "<tr>\n",
       "  <th>Quarterly_Tax</th> <td>    4.2510</td> <td>    1.375</td> <td>    3.092</td> <td> 0.002</td> <td>    1.554</td> <td>    6.948</td>\n",
       "</tr>\n",
       "<tr>\n",
       "  <th>Weight</th>        <td>   30.4964</td> <td>    1.222</td> <td>   24.966</td> <td> 0.000</td> <td>   28.100</td> <td>   32.893</td>\n",
       "</tr>\n",
       "</table>\n",
       "<table class=\"simpletable\">\n",
       "<tr>\n",
       "  <th>Omnibus:</th>       <td>68.803</td> <th>  Durbin-Watson:     </th> <td>   1.717</td>\n",
       "</tr>\n",
       "<tr>\n",
       "  <th>Prob(Omnibus):</th> <td> 0.000</td> <th>  Jarque-Bera (JB):  </th> <td> 217.411</td>\n",
       "</tr>\n",
       "<tr>\n",
       "  <th>Skew:</th>          <td> 0.117</td> <th>  Prob(JB):          </th> <td>6.16e-48</td>\n",
       "</tr>\n",
       "<tr>\n",
       "  <th>Kurtosis:</th>      <td> 4.896</td> <th>  Cond. No.          </th> <td>3.48e+06</td>\n",
       "</tr>\n",
       "</table><br/><br/>Notes:<br/>[1] Standard Errors assume that the covariance matrix of the errors is correctly specified.<br/>[2] The condition number is large, 3.48e+06. This might indicate that there are<br/>strong multicollinearity or other numerical problems."
      ],
      "text/plain": [
       "<class 'statsmodels.iolib.summary.Summary'>\n",
       "\"\"\"\n",
       "                            OLS Regression Results                            \n",
       "==============================================================================\n",
       "Dep. Variable:                  Price   R-squared:                       0.888\n",
       "Model:                            OLS   Adj. R-squared:                  0.888\n",
       "Method:                 Least Squares   F-statistic:                     1616.\n",
       "Date:                Sat, 02 Oct 2021   Prob (F-statistic):               0.00\n",
       "Time:                        14:57:20   Log-Likelihood:                -12182.\n",
       "No. Observations:                1430   AIC:                         2.438e+04\n",
       "Df Residuals:                    1422   BIC:                         2.442e+04\n",
       "Df Model:                           7                                         \n",
       "Covariance Type:            nonrobust                                         \n",
       "=================================================================================\n",
       "                    coef    std err          t      P>|t|      [0.025      0.975]\n",
       "---------------------------------------------------------------------------------\n",
       "Intercept     -1.576e+04   1426.319    -11.048      0.000   -1.86e+04    -1.3e+04\n",
       "Age_08_04      -110.8777      2.453    -45.199      0.000    -115.690    -106.066\n",
       "KM               -0.0179      0.001    -15.108      0.000      -0.020      -0.016\n",
       "HP               33.7616      2.732     12.359      0.000      28.403      39.120\n",
       "cc               -3.5521      0.297    -11.974      0.000      -4.134      -2.970\n",
       "Gears           599.3272    175.257      3.420      0.001     255.538     943.116\n",
       "Quarterly_Tax     4.2510      1.375      3.092      0.002       1.554       6.948\n",
       "Weight           30.4964      1.222     24.966      0.000      28.100      32.893\n",
       "==============================================================================\n",
       "Omnibus:                       68.803   Durbin-Watson:                   1.717\n",
       "Prob(Omnibus):                  0.000   Jarque-Bera (JB):              217.411\n",
       "Skew:                           0.117   Prob(JB):                     6.16e-48\n",
       "Kurtosis:                       4.896   Cond. No.                     3.48e+06\n",
       "==============================================================================\n",
       "\n",
       "Notes:\n",
       "[1] Standard Errors assume that the covariance matrix of the errors is correctly specified.\n",
       "[2] The condition number is large, 3.48e+06. This might indicate that there are\n",
       "strong multicollinearity or other numerical problems.\n",
       "\"\"\""
      ]
     },
     "execution_count": 60,
     "metadata": {},
     "output_type": "execute_result"
    }
   ],
   "source": [
    "model5.summary()"
   ]
  },
  {
   "cell_type": "code",
   "execution_count": 61,
   "id": "bcc45f97",
   "metadata": {},
   "outputs": [
    {
     "data": {
      "text/plain": [
       "array([6.45753732e-03, 3.14190674e-03, 4.54340363e-03, ...,\n",
       "       4.70306374e-06, 1.12105116e-03, 2.50416264e-02])"
      ]
     },
     "execution_count": 61,
     "metadata": {},
     "output_type": "execute_result"
    }
   ],
   "source": [
    "model_influence = model5.get_influence()\n",
    "(c,_) = model_influence.cooks_distance\n",
    "c"
   ]
  },
  {
   "cell_type": "code",
   "execution_count": 62,
   "id": "23b759dd",
   "metadata": {},
   "outputs": [
    {
     "data": {
      "image/png": "[encoded data removed]",
      "text/plain": [
       "<Figure size 1440x504 with 1 Axes>"
      ]
     },
     "metadata": {
      "needs_background": "light"
     },
     "output_type": "display_data"
    }
   ],
   "source": [
    "fig = plt.subplots(figsize=(20, 7))\n",
    "plt.stem(np.arange(len(data2)), np.round(c, 3)) \n",
    "plt.xlabel('Row index')\n",
    "plt.ylabel('cooks Distance')\n",
    "plt.show()"
   ]
  },
  {
   "cell_type": "code",
   "execution_count": 63,
   "id": "1238710a",
   "metadata": {},
   "outputs": [
    {
     "data": {
      "text/plain": [
       "(649, 0.1296755534834347)"
      ]
     },
     "execution_count": 63,
     "metadata": {},
     "output_type": "execute_result"
    }
   ],
   "source": [
    "np.argmax(c) , np.max(c)"
   ]
  },
  {
   "cell_type": "code",
   "execution_count": 64,
   "id": "f1720da6",
   "metadata": {},
   "outputs": [],
   "source": [
    "data2.drop([649],inplace=True, axis=0)"
   ]
  },
  {
   "cell_type": "code",
   "execution_count": 65,
   "id": "3ab02c37",
   "metadata": {},
   "outputs": [
    {
     "data": {
      "image/png": "[encoded data removed]",
      "text/plain": [
       "<Figure size 432x288 with 1 Axes>"
      ]
     },
     "metadata": {
      "needs_background": "light"
     },
     "output_type": "display_data"
    }
   ],
   "source": [
    "influence_plot(model5)\n",
    "plt.show()"
   ]
  },
  {
   "cell_type": "code",
   "execution_count": 66,
   "id": "7856d57b",
   "metadata": {},
   "outputs": [],
   "source": [
    "data2.drop([991,956],inplace=True, axis=0)"
   ]
  },
  {
   "cell_type": "code",
   "execution_count": 67,
   "id": "bdb9584c",
   "metadata": {},
   "outputs": [],
   "source": [
    "import statsmodels.formula.api as smf\n",
    "model6=smf.ols(\"Price~Age_08_04+KM+HP+cc+Gears+Quarterly_Tax+Weight\", data=data2).fit()"
   ]
  },
  {
   "cell_type": "code",
   "execution_count": 68,
   "id": "e4046df2",
   "metadata": {},
   "outputs": [
    {
     "data": {
      "text/html": [
       "<table class=\"simpletable\">\n",
       "<caption>OLS Regression Results</caption>\n",
       "<tr>\n",
       "  <th>Dep. Variable:</th>          <td>Price</td>      <th>  R-squared:         </th> <td>   0.889</td> \n",
       "</tr>\n",
       "<tr>\n",
       "  <th>Model:</th>                   <td>OLS</td>       <th>  Adj. R-squared:    </th> <td>   0.888</td> \n",
       "</tr>\n",
       "<tr>\n",
       "  <th>Method:</th>             <td>Least Squares</td>  <th>  F-statistic:       </th> <td>   1621.</td> \n",
       "</tr>\n",
       "<tr>\n",
       "  <th>Date:</th>             <td>Sat, 02 Oct 2021</td> <th>  Prob (F-statistic):</th>  <td>  0.00</td>  \n",
       "</tr>\n",
       "<tr>\n",
       "  <th>Time:</th>                 <td>14:57:23</td>     <th>  Log-Likelihood:    </th> <td> -12154.</td> \n",
       "</tr>\n",
       "<tr>\n",
       "  <th>No. Observations:</th>      <td>  1427</td>      <th>  AIC:               </th> <td>2.432e+04</td>\n",
       "</tr>\n",
       "<tr>\n",
       "  <th>Df Residuals:</th>          <td>  1419</td>      <th>  BIC:               </th> <td>2.437e+04</td>\n",
       "</tr>\n",
       "<tr>\n",
       "  <th>Df Model:</th>              <td>     7</td>      <th>                     </th>     <td> </td>    \n",
       "</tr>\n",
       "<tr>\n",
       "  <th>Covariance Type:</th>      <td>nonrobust</td>    <th>                     </th>     <td> </td>    \n",
       "</tr>\n",
       "</table>\n",
       "<table class=\"simpletable\">\n",
       "<tr>\n",
       "        <td></td>           <th>coef</th>     <th>std err</th>      <th>t</th>      <th>P>|t|</th>  <th>[0.025</th>    <th>0.975]</th>  \n",
       "</tr>\n",
       "<tr>\n",
       "  <th>Intercept</th>     <td>-1.515e+04</td> <td> 1460.949</td> <td>  -10.372</td> <td> 0.000</td> <td> -1.8e+04</td> <td>-1.23e+04</td>\n",
       "</tr>\n",
       "<tr>\n",
       "  <th>Age_08_04</th>     <td> -110.6744</td> <td>    2.451</td> <td>  -45.151</td> <td> 0.000</td> <td> -115.483</td> <td> -105.866</td>\n",
       "</tr>\n",
       "<tr>\n",
       "  <th>KM</th>            <td>   -0.0179</td> <td>    0.001</td> <td>  -15.115</td> <td> 0.000</td> <td>   -0.020</td> <td>   -0.016</td>\n",
       "</tr>\n",
       "<tr>\n",
       "  <th>HP</th>            <td>   34.2537</td> <td>    2.743</td> <td>   12.487</td> <td> 0.000</td> <td>   28.873</td> <td>   39.635</td>\n",
       "</tr>\n",
       "<tr>\n",
       "  <th>cc</th>            <td>   -3.5620</td> <td>    0.296</td> <td>  -12.023</td> <td> 0.000</td> <td>   -4.143</td> <td>   -2.981</td>\n",
       "</tr>\n",
       "<tr>\n",
       "  <th>Gears</th>         <td>  445.1046</td> <td>  192.345</td> <td>    2.314</td> <td> 0.021</td> <td>   67.793</td> <td>  822.416</td>\n",
       "</tr>\n",
       "<tr>\n",
       "  <th>Quarterly_Tax</th> <td>    4.2335</td> <td>    1.373</td> <td>    3.084</td> <td> 0.002</td> <td>    1.541</td> <td>    6.926</td>\n",
       "</tr>\n",
       "<tr>\n",
       "  <th>Weight</th>        <td>   30.6150</td> <td>    1.221</td> <td>   25.083</td> <td> 0.000</td> <td>   28.221</td> <td>   33.009</td>\n",
       "</tr>\n",
       "</table>\n",
       "<table class=\"simpletable\">\n",
       "<tr>\n",
       "  <th>Omnibus:</th>       <td>69.023</td> <th>  Durbin-Watson:     </th> <td>   1.719</td>\n",
       "</tr>\n",
       "<tr>\n",
       "  <th>Prob(Omnibus):</th> <td> 0.000</td> <th>  Jarque-Bera (JB):  </th> <td> 217.658</td>\n",
       "</tr>\n",
       "<tr>\n",
       "  <th>Skew:</th>          <td> 0.122</td> <th>  Prob(JB):          </th> <td>5.45e-48</td>\n",
       "</tr>\n",
       "<tr>\n",
       "  <th>Kurtosis:</th>      <td> 4.898</td> <th>  Cond. No.          </th> <td>3.57e+06</td>\n",
       "</tr>\n",
       "</table><br/><br/>Notes:<br/>[1] Standard Errors assume that the covariance matrix of the errors is correctly specified.<br/>[2] The condition number is large, 3.57e+06. This might indicate that there are<br/>strong multicollinearity or other numerical problems."
      ],
      "text/plain": [
       "<class 'statsmodels.iolib.summary.Summary'>\n",
       "\"\"\"\n",
       "                            OLS Regression Results                            \n",
       "==============================================================================\n",
       "Dep. Variable:                  Price   R-squared:                       0.889\n",
       "Model:                            OLS   Adj. R-squared:                  0.888\n",
       "Method:                 Least Squares   F-statistic:                     1621.\n",
       "Date:                Sat, 02 Oct 2021   Prob (F-statistic):               0.00\n",
       "Time:                        14:57:23   Log-Likelihood:                -12154.\n",
       "No. Observations:                1427   AIC:                         2.432e+04\n",
       "Df Residuals:                    1419   BIC:                         2.437e+04\n",
       "Df Model:                           7                                         \n",
       "Covariance Type:            nonrobust                                         \n",
       "=================================================================================\n",
       "                    coef    std err          t      P>|t|      [0.025      0.975]\n",
       "---------------------------------------------------------------------------------\n",
       "Intercept     -1.515e+04   1460.949    -10.372      0.000    -1.8e+04   -1.23e+04\n",
       "Age_08_04      -110.6744      2.451    -45.151      0.000    -115.483    -105.866\n",
       "KM               -0.0179      0.001    -15.115      0.000      -0.020      -0.016\n",
       "HP               34.2537      2.743     12.487      0.000      28.873      39.635\n",
       "cc               -3.5620      0.296    -12.023      0.000      -4.143      -2.981\n",
       "Gears           445.1046    192.345      2.314      0.021      67.793     822.416\n",
       "Quarterly_Tax     4.2335      1.373      3.084      0.002       1.541       6.926\n",
       "Weight           30.6150      1.221     25.083      0.000      28.221      33.009\n",
       "==============================================================================\n",
       "Omnibus:                       69.023   Durbin-Watson:                   1.719\n",
       "Prob(Omnibus):                  0.000   Jarque-Bera (JB):              217.658\n",
       "Skew:                           0.122   Prob(JB):                     5.45e-48\n",
       "Kurtosis:                       4.898   Cond. No.                     3.57e+06\n",
       "==============================================================================\n",
       "\n",
       "Notes:\n",
       "[1] Standard Errors assume that the covariance matrix of the errors is correctly specified.\n",
       "[2] The condition number is large, 3.57e+06. This might indicate that there are\n",
       "strong multicollinearity or other numerical problems.\n",
       "\"\"\""
      ]
     },
     "execution_count": 68,
     "metadata": {},
     "output_type": "execute_result"
    }
   ],
   "source": [
    "model6.summary()"
   ]
  },
  {
   "cell_type": "code",
   "execution_count": null,
   "id": "438730c0",
   "metadata": {},
   "outputs": [],
   "source": []
  }
 ],
 "metadata": {
  "kernelspec": {
   "display_name": "Python 3",
   "language": "python",
   "name": "python3"
  },
  "language_info": {
   "codemirror_mode": {
    "name": "ipython",
    "version": 3
   },
   "file_extension": ".py",
   "mimetype": "text/x-python",
   "name": "python",
   "nbconvert_exporter": "python",
   "pygments_lexer": "ipython3",
   "version": "3.8.8"
  }
 },
 "nbformat": 4,
 "nbformat_minor": 5
}
